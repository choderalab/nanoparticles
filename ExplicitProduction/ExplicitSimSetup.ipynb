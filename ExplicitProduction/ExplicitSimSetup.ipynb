{
 "cells": [
  {
   "cell_type": "markdown",
   "metadata": {},
   "source": [
    "# Crash investigation and solution for explicit solvent simulations \n",
    "\n",
    "The nanoparticles formed in implicit solvent explode (forces diverge) during minimisation with explicit solvent. This notebook investigates why, and provides the method the setup the simulations in a stable way.\n",
    "\n",
    "The solution is given in Fix 2, which uses a double minimization procedure:\n",
    "* The nanoparticle is minimized in a vacuum.\n",
    "* This structure is then solvated and neutralized in explicit water\n",
    "* The minimized solvent-nanoparticle system is then thermalised as detailed below.\n",
    "\n",
    "The structures called `Thermalized.pdb` will be used to start the production simulations."
   ]
  },
  {
   "cell_type": "markdown",
   "metadata": {},
   "source": [
    "## Hypothesis 1. \n",
    "### The initial energy of nanoparticle in explicit solvent is NaN\n",
    "Testing the initial energy of the initial structure of the explicit solvent simulations. Creating the system and solvating the nanoparticle in a box of water."
   ]
  },
  {
   "cell_type": "code",
   "execution_count": 1,
   "metadata": {
    "collapsed": true
   },
   "outputs": [],
   "source": [
    "from simtk.openmm.app import *\n",
    "from simtk.openmm import *\n",
    "from simtk.unit import *\n",
    "import time\n",
    "from openmoltools.forcefield_generators import gaffTemplateGenerator"
   ]
  },
  {
   "cell_type": "markdown",
   "metadata": {
    "collapsed": true
   },
   "source": [
    "The parameter determines whether the scripts in this notebook will be run."
   ]
  },
  {
   "cell_type": "code",
   "execution_count": 2,
   "metadata": {
    "collapsed": true
   },
   "outputs": [],
   "source": [
    "run = False"
   ]
  },
  {
   "cell_type": "code",
   "execution_count": 3,
   "metadata": {
    "collapsed": false
   },
   "outputs": [],
   "source": [
    "forcefield = ForceField('gaff.xml','tip3p.xml','amber99sbildn.xml')\n",
    "forcefield.registerTemplateGenerator(gaffTemplateGenerator)\n",
    "\n",
    "if run == True:\n",
    "    ligs = ['1e','2m','3t','4r','5s','6s','7t','8t','9t','10v']\n",
    "\n",
    "    for l in ligs:\n",
    "        pdb = PDBFile(l+'/nanoparticle.pdb')\n",
    "        modeller = Modeller(pdb.topology, pdb.positions)\n",
    "        modeller.addSolvent(forcefield,padding=1*nanometer,neutralize=True,ionicStrength=0.0001*molar)\n",
    "    \n",
    "        system = forcefield.createSystem(modeller.topology,nonbondedMethod=PME, nonbondedCutoff=1.0*nanometer, constraints=HBonds)\n",
    "        integrator = LangevinIntegrator(300*kelvin, 1/picosecond, 0.002*picoseconds)\n",
    "    \n",
    "        context = Context(system, integrator)\n",
    "        context.setPositions(modeller.positions)\n",
    "        context.setVelocitiesToTemperature(300*kelvin)\n",
    "    \n",
    "        state = context.getState(getEnergy=True)\n",
    "        pot_energy = state.getPotentialEnergy()\n",
    "        kin_energy = state.getKineticEnergy()\n",
    "    \n",
    "        print l, pot_energy,kin_energy"
   ]
  },
  {
   "cell_type": "markdown",
   "metadata": {
    "collapsed": true
   },
   "source": [
    "None of the nanoparticles in water has initial NaN energy. So why do they blow up? And what can I do about it? Run Langevin with a tiny timestep?"
   ]
  },
  {
   "cell_type": "markdown",
   "metadata": {
    "collapsed": true
   },
   "source": [
    "## Fix 1. Run GHMC at a very low temperture with a small timestep"
   ]
  },
  {
   "cell_type": "code",
   "execution_count": 4,
   "metadata": {
    "collapsed": true
   },
   "outputs": [],
   "source": [
    "from openmmtools.integrators import GHMCIntegrator"
   ]
  },
  {
   "cell_type": "code",
   "execution_count": 5,
   "metadata": {
    "collapsed": false
   },
   "outputs": [],
   "source": [
    "ligs = ['1e','2m','3t','4r','5s','6s','7t','8t','9t','10v']\n",
    "\n",
    "if run == True:\n",
    "    for l in ligs:\n",
    "        print 'Running {0}'.format(l)\n",
    "        pdb = PDBFile(l+'/miminised.pdb')\n",
    "        modeller = Modeller(pdb.topology, pdb.positions)\n",
    "        modeller.addSolvent(forcefield,padding=1*nanometer,neutralize=True,ionicStrength=0.0001*molar)\n",
    "    \n",
    "        system = forcefield.createSystem(modeller.topology,nonbondedMethod=PME, nonbondedCutoff=1.0*nanometer, constraints=HBonds)\n",
    "        integrator = LangevinIntegrator(1*kelvin, 1/picosecond, 0.0001*picoseconds)\n",
    "    \n",
    "        context = Context(system, integrator)\n",
    "        context.setPositions(modeller.positions)\n",
    "        context.setVelocitiesToTemperature(10*kelvin)\n",
    "    \n",
    "        print '    GHMC'\n",
    "        for i in range(10):\n",
    "            integrator.step(100)\n",
    "            state = context.getState(getEnergy=True)\n",
    "            pot_energy = state.getPotentialEnergy()\n",
    "            kin_energy = state.getKineticEnergy()\n",
    "            print 'Energies:', pot_energy,kin_energy\n",
    "        \n",
    "            filename = '{0}/{1}_Langevin_1K.pdb'.format(l,i)\n",
    "            positions = context.getState(getPositions=True).getPositions(asNumpy=True)\n",
    "            PDBFile.writeFile(modeller.topology,positions, open(filename, 'w'))"
   ]
  },
  {
   "cell_type": "markdown",
   "metadata": {},
   "source": [
    "Most break when the number of steps is greater than 50.\n",
    "\n",
    "Trying a different protocol where I gradually heat up the system with a 0.1 fs timestep"
   ]
  },
  {
   "cell_type": "code",
   "execution_count": 6,
   "metadata": {
    "collapsed": false
   },
   "outputs": [],
   "source": [
    "ligs = ['1e','2m','3t','4r','5s','6s','7t','8t','9t','10v']\n",
    "\n",
    "if run==True:\n",
    "    forcefield = ForceField('gaff.xml','tip3p.xml','amber99sbildn.xml')\n",
    "    forcefield.registerTemplateGenerator(gaffTemplateGenerator)\n",
    "\n",
    "    for l in ligs:\n",
    "        print '\\n Running {0}'.format(l)\n",
    "        pdb = PDBFile(l+'/miminised.pdb')\n",
    "        modeller = Modeller(pdb.topology, pdb.positions)\n",
    "        modeller.addSolvent(forcefield,padding=1*nanometer,neutralize=True,ionicStrength=0.0001*molar)\n",
    "    \n",
    "        system = forcefield.createSystem(modeller.topology,nonbondedMethod=PME, nonbondedCutoff=1.0*nanometer, constraints=HBonds)\n",
    "        integrator = LangevinIntegrator(1*kelvin, 1/picosecond, 0.01*femtosecond)\n",
    "                    \n",
    "        context = Context(system, integrator)\n",
    "        context.setPositions(modeller.positions)\n",
    "        context.setVelocitiesToTemperature(1*kelvin) \n",
    "        positions = context.getState(getPositions=True).getPositions(asNumpy=True)\n",
    "        pdbfile = open('{0}/Heated_Langevin.pdb'.format(l), 'w')\n",
    "        PDBFile.writeModel(modeller.topology,positions,file=pdbfile,modelIndex=1)\n",
    "    \n",
    "        temp = range(1,300,9)\n",
    "        Nsteps= range(1,1100,1000/(len(temp)-1))\n",
    "        Nsteps.reverse()\n",
    "    \n",
    "        print '    Langevin gradual heating'\n",
    "        for i in range(len(temp)):\n",
    "            integrator.setTemperature(temp[i]*kelvin)\n",
    "            integrator.step(Nsteps[i])\n",
    "            print \"    Completed steps at {0}K\".format(temp[i])     \n",
    "            positions = context.getState(getPositions=True).getPositions(asNumpy=True)\n",
    "            PDBFile.writeModel(modeller.topology,positions,file=pdbfile,modelIndex=i+2)\n",
    "            del integrator, context"
   ]
  },
  {
   "cell_type": "markdown",
   "metadata": {},
   "source": [
    "Similuations still explode. New hypothesis needed."
   ]
  },
  {
   "cell_type": "markdown",
   "metadata": {},
   "source": [
    "## Hypothesis 2: \n",
    "### The interactions of the nanoparticle in a vaccuum are suffucient to blow the simulation up"
   ]
  },
  {
   "cell_type": "markdown",
   "metadata": {
    "collapsed": false
   },
   "source": [
    "* Ran `run_minimise.py` using `MinimiseTest.sh`\n",
    "* Minimising the nanoparticles in vacuum, with no solvent or dialectric works fine, without NaNs\n",
    "    - PDB outputs called `miminised.pdb`: compressed w.r.t original nanoparticle due to vacuum calculation.\n",
    "    \n",
    "This suggests I use the new `miminised.pdb` to seed the simulations.    "
   ]
  },
  {
   "cell_type": "markdown",
   "metadata": {},
   "source": [
    "## Fix 2: Minimise the minimized nanoparticle in water\n",
    "The below works, so now I have properly minimized nanoparticles in water. Hopefully the thermalised runs work."
   ]
  },
  {
   "cell_type": "code",
   "execution_count": 7,
   "metadata": {
    "collapsed": false,
    "scrolled": true
   },
   "outputs": [],
   "source": [
    "if run==True:\n",
    "    ligs = ['1e','2m','3t','4r','5s','6s','7t','8t','9t','10v']\n",
    "    for l in ligs:\n",
    "        print 'Running {0}'.format(l)\n",
    "        pdb = PDBFile(l+'/miminised.pdb')\n",
    "        modeller = Modeller(pdb.topology, pdb.positions)\n",
    "        modeller.addSolvent(forcefield,padding=1*nanometer,neutralize=True,ionicStrength=0.0001*molar)\n",
    "    \n",
    "        system = forcefield.createSystem(modeller.topology,nonbondedMethod=PME, nonbondedCutoff=1.0*nanometer, constraints=HBonds)\n",
    "        integrator = LangevinIntegrator(1*kelvin, 1/picosecond, 0.0001*picoseconds)\n",
    "    \n",
    "        platform = Platform.getPlatformByName('CPU')\n",
    "        simulation = Simulation(modeller.topology, system, integrator, platform)\n",
    "        simulation.context.setPositions(modeller.positions)    \n",
    "\n",
    "        simulation.minimizeEnergy()\n",
    "    \n",
    "        filename = '{0}/DoubleMinimized.pdb'.format(l)\n",
    "        positions = simulation.context.getState(getPositions=True).getPositions(asNumpy=True)\n",
    "        PDBFile.writeFile(modeller.topology,positions, open(filename, 'w'))\n",
    "        del system, integrator, simulation"
   ]
  },
  {
   "cell_type": "markdown",
   "metadata": {},
   "source": [
    "Now seeing if I can relode the doubly minimized nanoparticle in water and thermalize."
   ]
  },
  {
   "cell_type": "code",
   "execution_count": 8,
   "metadata": {
    "collapsed": false
   },
   "outputs": [],
   "source": [
    "if run==True:\n",
    "    for l in ligs:\n",
    "        print 'Running {0}'.format(l)\n",
    "        pdb = PDBFile('{0}/DoubleMinimized.pdb'.format(l))\n",
    "        system = forcefield.createSystem(pdb.topology,nonbondedMethod=PME, nonbondedCutoff=1.0*nanometer, constraints=HBonds)\n",
    "        integrator = LangevinIntegrator(300*kelvin, 1/picosecond, 2*femtoseconds)\n",
    "\n",
    "        platform = Platform.getPlatformByName('CPU')\n",
    "        simulation = Simulation(pdb.topology, system, integrator, platform)\n",
    "        simulation.context.setPositions(pdb.positions)  \n",
    "\n",
    "        # Minimizing one more time to fix imprecision in PDB file.\n",
    "        simulation.minimizeEnergy()\n",
    "\n",
    "        # Thermalizing\n",
    "        simulation.context.setVelocitiesToTemperature(300*kelvin)\n",
    "        simulation.step(500)\n",
    "\n",
    "        filename = '{0}/Thermalized.pdb'.format(l)\n",
    "        positions = simulation.context.getState(getPositions=True).getPositions(asNumpy=True)\n",
    "        PDBFile.writeFile(pdb.topology,positions, open(filename, 'w'))"
   ]
  },
  {
   "cell_type": "markdown",
   "metadata": {},
   "source": [
    "Using 'Thermalized.pdb' to seed my production runs."
   ]
  },
  {
   "cell_type": "code",
   "execution_count": null,
   "metadata": {
    "collapsed": true
   },
   "outputs": [],
   "source": []
  }
 ],
 "metadata": {
  "kernelspec": {
   "display_name": "Python 2",
   "language": "python",
   "name": "python2"
  },
  "language_info": {
   "codemirror_mode": {
    "name": "ipython",
    "version": 2
   },
   "file_extension": ".py",
   "mimetype": "text/x-python",
   "name": "python",
   "nbconvert_exporter": "python",
   "pygments_lexer": "ipython2",
   "version": "2.7.11"
  }
 },
 "nbformat": 4,
 "nbformat_minor": 0
}
