{
 "cells": [
  {
   "cell_type": "code",
   "execution_count": 1,
   "metadata": {
    "collapsed": false
   },
   "outputs": [],
   "source": [
    "import numpy as np\n",
    "import matplotlib.pyplot as plt\n",
    "from IPython.display import Image\n",
    "from time import time\n",
    "import sys\n",
    "sys.path.append('/Users/rossg/Work/nanoparticles/Analysis')\n",
    "from AnalysisTools import *\n",
    "import mdtraj as md\n",
    "warnings.filterwarnings('ignore', category=DeprecationWarning, message='.*use @default decorator instead.*')\n",
    "from mdtraj.geometry.sasa import _ATOMIC_RADII\n",
    "# Below are taken from Bondi 1964, whereas the MdTraj defaults are taken from Gromacs radii.\n",
    "_ATOMIC_RADII['Cl'] = 0.175\n",
    "_ATOMIC_RADII['Br'] = 0.187\n",
    "_ATOMIC_RADII['I'] = 0.204"
   ]
  },
  {
   "cell_type": "code",
   "execution_count": 2,
   "metadata": {
    "collapsed": true
   },
   "outputs": [],
   "source": [
    "# Nice colours, taken on 26th Nov 2015 from:\n",
    "#http://tableaufriction.blogspot.co.uk/2012/11/finally-you-can-use-tableau-data-colors.html\n",
    "\n",
    "# These are the \"Tableau\" colors as RGB. I've chosen my faves. \n",
    "# In order: blue, green, purple, orange, yellow. Hopefully a good compromise for colour-blind people.\n",
    "tableau4 = [(31, 119, 180),(44, 160, 44),(148,103,189),(255, 127, 14),(188,189,34)]\n",
    "\n",
    "# Scale the RGB values to the [0, 1] range, which is the format matplotlib accepts. \n",
    "for i in range(len(tableau4)):    \n",
    "    r, g, b = tableau4[i]    \n",
    "    tableau4[i] = (r / 255., g / 255., b / 255.)"
   ]
  },
  {
   "cell_type": "markdown",
   "metadata": {},
   "source": [
    "# Nanoparticle 10v (valrubicin)"
   ]
  },
  {
   "cell_type": "markdown",
   "metadata": {},
   "source": [
    "### Surface area of unrestrained implicit solvent simulation\n",
    "* Number of drug molecules = 50\n",
    "* Number of dye molecules = 10\n",
    "* Box dimensions = $161 \\times 161 \\times 161 \\text{A}^3$\n",
    "* Concentration of drug at experimental concentration of approximately 20mM."
   ]
  },
  {
   "cell_type": "markdown",
   "metadata": {},
   "source": [
    "Loading trajectory from  /Users/rossg/Work/my_nanoparticles/Production_Implicit_OBC1_longer/10v."
   ]
  },
  {
   "cell_type": "code",
   "execution_count": null,
   "metadata": {
    "collapsed": true
   },
   "outputs": [],
   "source": [
    "folder = '/Users/rossg/Work/my_nanoparticles/Production_Implicit_OBC1_longer/' + '10v/'\n",
    "traj = md.load(folder+'trajectory.dcd',top=folder+'snapshots.pdb')"
   ]
  },
  {
   "cell_type": "code",
   "execution_count": null,
   "metadata": {
    "collapsed": true
   },
   "outputs": [],
   "source": [
    "sasa = md.shrake_rupley(traj,mode = \"residue\")\n",
    "total_sasa = sasa.sum(axis=1)"
   ]
  },
  {
   "cell_type": "code",
   "execution_count": null,
   "metadata": {
    "collapsed": false
   },
   "outputs": [],
   "source": [
    "plt.figure(figsize=(10.0/1.1,7.0/1.1))\n",
    "\n",
    "time = (np.arange(len(total_sasa))+1)*150000*0.002/1000\n",
    "plt.plot(time,total_sasa,color='k',linewidth=3)\n",
    "plt.xlim((0,200))\n",
    "plt.xlabel('Time (ns)',size=16)\n",
    "plt.ylabel('Total SASA (nm)^2', size=16)\n",
    "#plt.grid()\n",
    "#plt.figure(dpi=300)\n",
    "plt.savefig(\"SASA_10v_unrestrained.png\", format='png')\n",
    "Image(\"SASA_10v_unrestrained.png\")"
   ]
  },
  {
   "cell_type": "markdown",
   "metadata": {},
   "source": [
    "## Surface area of 10v in explicit solvent\n",
    "Nanoparticle formed in implicit solvent, then solvated in explicit solvent. \n",
    "* Number of drug molecules = 50\n",
    "* Number of dye molecules = 20\n",
    "* water model = TIP3P\n",
    "* Box dimensions set so that water was at least 10 Angs from edge of nanoparticle"
   ]
  },
  {
   "cell_type": "code",
   "execution_count": null,
   "metadata": {
    "collapsed": true
   },
   "outputs": [],
   "source": [
    "folder = '/Users/rossg/Work/nanoparticles/NewExplicit/Production/10v/'\n",
    "traj_10v = md.load(folder+'traj_centered.dcd',top=folder+'equil.pdb')\n",
    "#traj_implicit.remove_solvent(inplace=True)    # Still leaves ions"
   ]
  },
  {
   "cell_type": "code",
   "execution_count": null,
   "metadata": {
    "collapsed": false
   },
   "outputs": [],
   "source": [
    "mols = ['LIG','DYE']\n",
    "atmids = [atms.index for atms in traj_10v.topology.atoms if atms.residue.name in mols]\n",
    "traj_10v = traj_10v.atom_slice(atmids,inplace=True)"
   ]
  },
  {
   "cell_type": "code",
   "execution_count": null,
   "metadata": {
    "collapsed": false
   },
   "outputs": [],
   "source": [
    "sasa_10v = md.shrake_rupley(traj_10v,mode = \"residue\")\n",
    "total_sasa_10v = sasa_10v.sum(axis=1)"
   ]
  },
  {
   "cell_type": "code",
   "execution_count": null,
   "metadata": {
    "collapsed": false
   },
   "outputs": [],
   "source": [
    "plt.clf()\n",
    "time = (np.arange(len(total_sasa_10v))+1)*100000*0.002/1000     # Time in nanoseconds: 'nsteps_per_frame*time_step(ps)/num_ps_in_ns\n",
    "plt.plot(time,total_sasa_10v,color='k',linewidth=3)\n",
    "#plt.xlim((0,200))\n",
    "plt.xlabel('Time (ns)',size=16)\n",
    "plt.ylabel('Total SASA (nm)^2', size=16)\n",
    "#plt.grid()\n",
    "#plt.figure(dpi=300)\n",
    "plt.savefig(\"SASA_10v_explicit.png\", format='png')\n",
    "Image(\"SASA_10v_explicit.png\")"
   ]
  },
  {
   "cell_type": "markdown",
   "metadata": {},
   "source": [
    "The nanoparticle formed in implicit solvent has an approximately stable (albeit variable) SASA. In contrast, 4r (below) has an unequilibrated SASA."
   ]
  },
  {
   "cell_type": "markdown",
   "metadata": {},
   "source": [
    "## Surface area of 4r (Rapamycin) in explicit solvent\n",
    "Nanoparticle formed in implicit solvent, then solvated in explicit solvent. \n",
    "* Number of drug molecules = 50\n",
    "* Number of dye molecules = 20\n",
    "* water model = TIP3P\n",
    "* Box dimensions set so that water was at least 10 Angs from edge of nanoparticle"
   ]
  },
  {
   "cell_type": "code",
   "execution_count": null,
   "metadata": {
    "collapsed": false
   },
   "outputs": [],
   "source": [
    "folder = '/Users/rossg/Work/nanoparticles/NewExplicit/Production/4r/'\n",
    "traj_4r = md.load(folder+'traj_centered.dcd',top=folder+'equil.pdb')\n",
    "#traj_implicit.remove_solvent(inplace=True)    # Still leaves ions"
   ]
  },
  {
   "cell_type": "markdown",
   "metadata": {},
   "source": [
    "Extracting only the coordinates of the drug and dye for SASA calculation:"
   ]
  },
  {
   "cell_type": "code",
   "execution_count": null,
   "metadata": {
    "collapsed": false
   },
   "outputs": [],
   "source": [
    "mols = ['LIG','DYE']\n",
    "atmids = [atms.index for atms in traj_4r.topology.atoms if atms.residue.name in mols]\n",
    "t = traj_4r.atom_slice(atmids,inplace=True)"
   ]
  },
  {
   "cell_type": "code",
   "execution_count": null,
   "metadata": {
    "collapsed": false
   },
   "outputs": [],
   "source": [
    "sasa_4r = md.shrake_rupley(t,mode = \"residue\")\n",
    "total_sasa_4r = sasa_im.sum(axis=1)"
   ]
  },
  {
   "cell_type": "code",
   "execution_count": null,
   "metadata": {
    "collapsed": false
   },
   "outputs": [],
   "source": [
    "plt.clf()\n",
    "time = (np.arange(len(total_sasa_4r))+1)*100000*0.002/1000     # Time in nanoseconds: 'nsteps_per_frame*time_step(ps)/num_ps_in_ns\n",
    "plt.plot(time,total_sasa_4r,color='k',linewidth=3)\n",
    "#plt.xlim((0,200))\n",
    "plt.xlabel('Time (ns)',size=16)\n",
    "plt.ylabel('Total SASA (nm)^2', size=16)\n",
    "#plt.grid()\n",
    "#plt.figure(dpi=300)\n",
    "plt.savefig(\"SASA_4r_explicit.png\", format='png')\n",
    "Image(\"SASA_4r_explicit.png\")"
   ]
  },
  {
   "cell_type": "markdown",
   "metadata": {},
   "source": [
    "Nanoparticle still expanding at the end of simulations. This indicates the apparantly equilibrated structure from implicit solvent nanoparticle formation is more compact than it would be in explicit solvent."
   ]
  },
  {
   "cell_type": "markdown",
   "metadata": {},
   "source": [
    "# Histogram of radial structure of dye"
   ]
  },
  {
   "cell_type": "markdown",
   "metadata": {},
   "source": [
    "## Molecule 4r (rapamycin)"
   ]
  },
  {
   "cell_type": "code",
   "execution_count": null,
   "metadata": {
    "collapsed": true
   },
   "outputs": [],
   "source": [
    "folder = '/Users/rossg/Work/nanoparticles/NewExplicit/Production/4r/'\n",
    "traj_4r = md.load(folder+'traj_centered.dcd',top=folder+'equil.pdb')"
   ]
  },
  {
   "cell_type": "code",
   "execution_count": null,
   "metadata": {
    "collapsed": true
   },
   "outputs": [],
   "source": [
    "mols = ['LIG','DYE']\n",
    "nanoids = [atms.index for atms in traj_4r.topology.atoms if atms.residue.name in mols]\n",
    "dyeids = [atms.index for atms in traj_4r.topology.atoms if atms.residue.name == 'DYE']\n",
    "ligids = [atms.index for atms in traj_4r.topology.atoms if atms.residue.name == 'LIG']"
   ]
  },
  {
   "cell_type": "markdown",
   "metadata": {},
   "source": [
    "Locate the centre of nanoparticle and get the distance of all the atoms from center"
   ]
  },
  {
   "cell_type": "code",
   "execution_count": null,
   "metadata": {
    "collapsed": false
   },
   "outputs": [],
   "source": [
    "frame = 0\n",
    "center = traj_4r.xyz[frame][nanoids,:].mean(axis=0)\n",
    "\n",
    "dist_dye = []\n",
    "dist_lig = []\n",
    "for frame in range(traj_4r.n_frames):\n",
    "    for ind in dyeids:\n",
    "        dist_dye.append(((center - traj_4r.xyz[frame][ind,:])**2).sum()) \n",
    "    for ind in ligids:\n",
    "        dist_lig.append(((center - traj_4r.xyz[frame][ind,:])**2).sum())         "
   ]
  },
  {
   "cell_type": "code",
   "execution_count": null,
   "metadata": {
    "collapsed": false
   },
   "outputs": [],
   "source": [
    "edges = np.arange(0,18,2)\n",
    "midpoints = edges[0:len(edges)-1] + np.diff(edges)/2\n",
    "#print midpoints,edges\n",
    "\n",
    "cnts_dye,bins = np.histogram(dist_dye,edges)\n",
    "cnts_dye = 1.0*cnts_dye/np.sum(cnts_dye)\n",
    "cnts_lig,bins = np.histogram(dist_lig,edges)\n",
    "cnts_lig = 1.0*cnts_lig/np.sum(cnts_lig)"
   ]
  },
  {
   "cell_type": "code",
   "execution_count": null,
   "metadata": {
    "collapsed": false
   },
   "outputs": [],
   "source": [
    "plt.clf()\n",
    "plt.bar(midpoints+0.23,cnts_dye,color=tableau4[0])\n",
    "plt.bar(midpoints-0.77,cnts_lig,color=tableau4[-1])\n",
    "#plt.grid()\n",
    "plt.xlim((0,16))\n",
    "plt.ylabel('Probability')\n",
    "plt.xlabel('Distance from center (Angs.)')\n",
    "plt.title('Radial distribution of molecules in nanoparticle of rapamycin')\n",
    "plt.legend(('Dye','Drug'),loc='upper left')\n",
    "plt.savefig('4r_explicit_RadialProfile.png',format='png')\n",
    "Image('4r_explicit_RadialProfile.png')"
   ]
  },
  {
   "cell_type": "markdown",
   "metadata": {
    "collapsed": true
   },
   "source": [
    "## Molecule 10v (valrubicin)"
   ]
  },
  {
   "cell_type": "code",
   "execution_count": null,
   "metadata": {
    "collapsed": true
   },
   "outputs": [],
   "source": [
    "folder = '/Users/rossg/Work/nanoparticles/NewExplicit/Production/10v/'\n",
    "traj_10v = md.load(folder+'traj_centered.dcd',top=folder+'equil.pdb')"
   ]
  },
  {
   "cell_type": "code",
   "execution_count": null,
   "metadata": {
    "collapsed": true
   },
   "outputs": [],
   "source": [
    "mols = ['LIG','DYE']\n",
    "nanoids = [atms.index for atms in traj_10v.topology.atoms if atms.residue.name in mols]\n",
    "dyeids = [atms.index for atms in traj_10v.topology.atoms if atms.residue.name == 'DYE']\n",
    "ligids = [atms.index for atms in traj_10v.topology.atoms if atms.residue.name == 'LIG']"
   ]
  },
  {
   "cell_type": "markdown",
   "metadata": {},
   "source": [
    "Get the distance form center of drug and dye"
   ]
  },
  {
   "cell_type": "code",
   "execution_count": null,
   "metadata": {
    "collapsed": true
   },
   "outputs": [],
   "source": [
    "frame = 0\n",
    "center = traj_10v.xyz[frame][nanoids,:].mean(axis=0)\n",
    "\n",
    "dist_dye = []\n",
    "dist_lig = []\n",
    "for frame in range(traj_10v.n_frames):\n",
    "    for ind in dyeids:\n",
    "        dist_dye.append(((center - traj_10v.xyz[frame][ind,:])**2).sum()) \n",
    "    for ind in ligids:\n",
    "        dist_lig.append(((center - traj_10v.xyz[frame][ind,:])**2).sum())         "
   ]
  },
  {
   "cell_type": "markdown",
   "metadata": {},
   "source": [
    "Create the histogram"
   ]
  },
  {
   "cell_type": "code",
   "execution_count": null,
   "metadata": {
    "collapsed": true
   },
   "outputs": [],
   "source": [
    "edges = np.arange(0,18,2)\n",
    "midpoints = edges[0:len(edges)-1] + np.diff(edges)/2\n",
    "\n",
    "cnts_dye,bins = np.histogram(dist_dye,edges)\n",
    "cnts_dye = 1.0*cnts_dye/np.sum(cnts_dye)\n",
    "cnts_lig,bins = np.histogram(dist_lig,edges)\n",
    "cnts_lig = 1.0*cnts_lig/np.sum(cnts_lig)"
   ]
  },
  {
   "cell_type": "code",
   "execution_count": null,
   "metadata": {
    "collapsed": false
   },
   "outputs": [],
   "source": [
    "plt.clf()\n",
    "plt.bar(midpoints+0.23,cnts_dye,color=tableau4[0])\n",
    "plt.bar(midpoints-0.77,cnts_lig,color=tableau4[-1])\n",
    "#plt.grid()\n",
    "plt.xlim((0,16))\n",
    "plt.ylabel('Probability')\n",
    "plt.xlabel('Distance from center (Angs.)')\n",
    "plt.title('Radial distribution of molecules in nanoparticle of valrubicin')\n",
    "plt.legend(('Dye','Drug'),loc='upper left')\n",
    "plt.savefig('10v_explicit_RadialProfile.png',format='png')\n",
    "Image('10v_explicit_RadialProfile.png')"
   ]
  }
 ],
 "metadata": {
  "kernelspec": {
   "display_name": "Python 2",
   "language": "python",
   "name": "python2"
  },
  "language_info": {
   "codemirror_mode": {
    "name": "ipython",
    "version": 2
   },
   "file_extension": ".py",
   "mimetype": "text/x-python",
   "name": "python",
   "nbconvert_exporter": "python",
   "pygments_lexer": "ipython2",
   "version": "2.7.11"
  }
 },
 "nbformat": 4,
 "nbformat_minor": 0
}
