{
 "cells": [
  {
   "cell_type": "code",
   "execution_count": 5,
   "metadata": {
    "collapsed": false
   },
   "outputs": [],
   "source": [
    "import sys\n",
    "sys.path.append(\"/Users/rossg/Work/nanoparticles/pipeline\")\n",
    "#from openmoltools import openeye         # for Choderalab wrappers of openeye software\n",
    "import openeye_mod as openeye             # personal modification of antechamber file generation function\n",
    "import openeye.oechem as oechem\n",
    "from openmoltools import packmol\n",
    "import parmed as pmd\n",
    "import subprocess\n",
    "import os"
   ]
  },
  {
   "cell_type": "markdown",
   "metadata": {},
   "source": [
    "# Preparation via tleap"
   ]
  },
  {
   "cell_type": "markdown",
   "metadata": {},
   "source": [
    "Creating a set of functions to automate the setup."
   ]
  },
  {
   "cell_type": "code",
   "execution_count": 3,
   "metadata": {
    "collapsed": false
   },
   "outputs": [],
   "source": [
    "def parametrize_mol(inname,resname):\n",
    "    \"\"\"\n",
    "    Parameterizes molecule with antechamber and adds charges using Open Eye's am1-bcc method from a mol2 file.\n",
    "    \n",
    "    Parameters\n",
    "    ----------\n",
    "    inname  : str\n",
    "      the names of the mol2 file of the molecule\n",
    "    resname : str\n",
    "      the name you wish to assign as the residue name \n",
    "      \n",
    "    Returns\n",
    "    -------\n",
    "    nothing\n",
    "    \n",
    "    BUT 'resname'_gaff.mol2 and 'resname'.frcmod are created in the working directory.\n",
    "    \"\"\"\n",
    "    mol = oechem.OEGraphMol()           # initialising molecule object\n",
    "    ifs = oechem.oemolistream()         # initialising input stream for reading in data\n",
    "    ifs.SetFormat(oechem.OEFormat_MOL2) # specifying mol2 format input\n",
    "    ifs.open(inname)           \n",
    "    if oechem.OEReadMolecule(ifs,mol):  # this function automatically returns True or False, to help spot for errors. \n",
    "        pass\n",
    "    else:\n",
    "        print \"Problem loading molecule!\"\n",
    "    mol = oechem.OEMol(mol)    \n",
    "    oechem.OEAssignAromaticFlags(mol, oechem.OEAroModelOpenEye)    \n",
    "    oechem.OEAddExplicitHydrogens(mol)\n",
    "    mol.SetTitle(resname)\n",
    "    if any([atom.GetName() == '' for atom in mol.GetAtoms()]):\n",
    "        oechem.OETriposAtomNames(mol)\n",
    "    openeye.oemol_to_antechamber(mol,resname+'_gaff.mol2',resname+'.frcmod',residue_name=resname)\n",
    "    \n",
    "def mol2pdb(inname):\n",
    "    outname = inname.split('.')[0] + '.pdb'\n",
    "    parm = pmd.load_file(inname,structure=False)\n",
    "    parm.save(outname,overwrite=True)\n",
    "\n",
    "def oemol2pdb(mol2name,pdbname):\n",
    "    mol = oechem.OEGraphMol()           # initialising molecule object\n",
    "    ifs = oechem.oemolistream()         # initialising INPUT stream for reading in data\n",
    "    ofs = oechem.oemolostream()         # initialising the OUTPUT stream for writing data\n",
    "    # Reading:\n",
    "    ifs.SetFormat(oechem.OEFormat_MOL2) # specifying mol2 format input\n",
    "    ifs.open(mol2name)           \n",
    "    if oechem.OEReadMolecule(ifs,mol):\n",
    "        pass\n",
    "    else:\n",
    "        print \"Problem loading molecule!\"\n",
    "    # Writing:\n",
    "    ofs.SetFormat(oechem.OEFormat_PDB)      # specifying that I want a pdb format \n",
    "    ofs.open(pdbname)\n",
    "    oechem.OEWriteMolecule(ofs,mol)    \n",
    "    \n",
    "    \n",
    "def tleap_nanosim(drugname,dyename,boxname,solvate=True):\n",
    "    tleap_input = \"\"\"\n",
    "    source leaprc.ff99SB\n",
    "    source leaprc.gaff\n",
    "    {0} = loadmol2 {0}_gaff.mol2\n",
    "    {1} = loadmol2 {1}_gaff.mol2\n",
    "    loadamberparams {0}.frcmod\n",
    "    loadamberparams {1}.frcmod\n",
    "    {2} = loadpdb {2}.pdb\n",
    "    solvateBox {2} TIP3PBOX 0.5\n",
    "    addIons2 box Na+ 0\n",
    "    saveamberparm {2} out.prmtop out.inpcrd\n",
    "    quit\n",
    "    \"\"\".format(drugname,dyename,boxname)\n",
    "    file_handle = open('tleap_commands', 'w')\n",
    "    file_handle.writelines(tleap_input)\n",
    "    file_handle.close()\n",
    "\n",
    "    cmd = \"tleap -f {0}\".format(file_handle.name)\n",
    "    subprocess.call(cmd,shell=True)\n",
    "    \n",
    "def tleap_mixture(resnames,boxname,solvate=True,implicit=False,run=True):\n",
    "    \"\"\"\n",
    "    Creates and runs tleap commands for setting up mixture simulations of small molecules. \n",
    "    The mixture can be solvated with water.\n",
    "    \n",
    "    Parameters\n",
    "    ----------\n",
    "    resnames  : list of str\n",
    "      the names of the molecules in the mixture. Must match residue name and antechamber mol2 file.\n",
    "      i.e. resname[1]= 'LIG', implies the residue name is LIG and there is an antechamber mol2 file 'LIG_gaff.mol2'.\n",
    "    boxname : str\n",
    "      the name of pdb file (without extension .pdb) file that contains the mixture of molecules in resnames\n",
    "    solvate = bool\n",
    "      whether to fill the free space in boxname.pdb with TIP3P water. \n",
    "      The box is neutralized assuming there is a net negative charge.\n",
    "    run: bool\n",
    "      whether to run tleap\n",
    "      \n",
    "    Returns\n",
    "    -------\n",
    "    tleap_input : str\n",
    "      the input file used for tleap\n",
    "    \"\"\"\n",
    "    tleap_input = \"source leaprc.ff99SB\\nsource leaprc.gaff\\n\"\n",
    "    for name in resnames: \n",
    "        tleap_input += \"{0} = loadmol2 {0}_gaff.mol2\\n\".format(name)\n",
    "        tleap_input += \"loadamberparams {0}.frcmod\\n\".format(name)\n",
    "    tleap_input += \"{0} = loadpdb {0}.pdb\\n\".format(boxname)\n",
    "    if solvate == True and implicit == False:\n",
    "        tleap_input += \"solvateBox box TIP3PBOX 0.5\\n\"\n",
    "        #tleap_input += \"addIons2 box Na+ 0\\n\"       # Not necessary if ions are already added by packmol\n",
    "    elif solvate == True and implicit == True:\n",
    "        tleap_input += \"set default PBRadii mbondi2\\n\"  # Set for IGB=5 radii\n",
    "    elif implicit == True:\n",
    "        tleap_input += \"set default PBRadii mbondi2\\n\"  # Set for IGB=5 radii\n",
    "    tleap_input += \"saveamberparm {0} out.prmtop out.inpcrd\\nquit\".format(boxname)\n",
    "    if run == True:\n",
    "        file_handle = open('tleap_commands', 'w')\n",
    "        file_handle.writelines(tleap_input)\n",
    "        file_handle.close()\n",
    "        cmd = \"tleap -f {0}\".format(file_handle.name)\n",
    "        subprocess.call(cmd,shell=True)\n",
    "    return tleap_input\n",
    "    \n",
    "def nanopipeline(drugmol2,dyemol2,drugname='LIG',dyename='DYE',ndrugs=10,ndye=20,boxsize=50,neutralize=True,implicit=False):\n",
    "    \"\"\"\n",
    "    Starting with the mol2 files of drug and dye, the molecules are parametrised, assembled uniformly in \n",
    "    cubic box, and AMBER prmtop and inpcrd files are created for the system. \n",
    "    \n",
    "    Parameters\n",
    "    ----------\n",
    "    drugmol2, dyemol2  : str, str\n",
    "      the mol2 file name of the drug/dye, with or without hydrogens\n",
    "    drugname, dyename  : str, str\n",
    "      the residue name you want for the drug/dye residue name and output file naming schemes\n",
    "    ndrugs/ndye: int\n",
    "      the number of drug/dye molecules you want in the box\n",
    "    boxsize: int\n",
    "      the length of the cubic box in Angstroms\n",
    "      \n",
    "    Returns\n",
    "    -------\n",
    "    out.inpcrd and out.out.prmtop are created in the working directory, as well gaff output files\n",
    "    \"\"\"\n",
    "    \n",
    "    # Parmetrizing with antechamber via openeye:\n",
    "    parametrize_mol(drugmol2,drugname)\n",
    "    parametrize_mol(dyemol2,dyename)\n",
    "    # Creating box of drugs and dye. Packmol requires PDB files\n",
    "    mol2pdb(drugname+'_gaff.mol2')\n",
    "    mol2pdb(dyename+'_gaff.mol2')\n",
    "    if neutralize == True:\n",
    "        box = packmol.pack_box([drugname+'_gaff.pdb',dyename+'_gaff.pdb','Na.pdb'],[ndrugs,ndye,ndye], tolerance=2.0, box_size=boxsize)\n",
    "    else:\n",
    "        box = packmol.pack_box([drugname+'_gaff.pdb',dyename+'_gaff.pdb'],[ndrugs,ndye], tolerance=2.0, box_size=boxsize)\n",
    "    box.save('box.pdb')\n",
    "    #os.remove(drugname+'_gaff.pdb')\n",
    "    #os.remove(dyename+'_gaff.pdb')\n",
    "    # Running tleap to create out.prmtop out.inpcrd for use with openmm\n",
    "    #tleap_nanosim(drugname,dyename,'box')\n",
    "    if implicit == False:\n",
    "        tleap_mixture([drugname,dyename],'box',solvate=True,implicit=False,run=True)\n",
    "    else:\n",
    "        tleap_mixture([drugname,dyename],'box',solvate=False,implicit=True,run=True)\n",
    "                            \n",
    "def mixture_setup(molfiles,resnames,nmols,boxsize,solvate=True):\n",
    "    \"\"\"\n",
    "    Function that generalises the function 'nanopipeline' for general mixtures.\n",
    "    Starting with the mol2 files of drug and dye, the molecules are parametrised, assembled uniformly in \n",
    "    cubic box, and AMBER prmtop and inpcrd files are created for the system. \n",
    "    \n",
    "    Parameters\n",
    "    ----------\n",
    "    molfiles : list of str\n",
    "      the mol2 file name of the compounds, with or without hydrogens\n",
    "    resnames : list of str \n",
    "      the residue names you want for the molecules  residue name and output file naming schemes\n",
    "    nmols : list of int\n",
    "      the number of molecules you want in the box, excluding water and ions\n",
    "    boxsize: int\n",
    "      the length of the cubic box in Angstroms\n",
    "      \n",
    "    Returns\n",
    "    -------\n",
    "    out.inpcrd and out.out.prmtop are created in the working directory, as well gaff output files\n",
    "    \"\"\"\n",
    "    \n",
    "    # Parmetrizing with antechamber via openeye:\n",
    "    for i in range(len(molfiles)): parametrize_mol(molfiles[i],resnames[i])\n",
    "    # Creating box of drugs and dye. Packmol requires PDB files\n",
    "    for i in range(len(molfiles)): mol2pdb(resnames[i]+'_gaff.mol2')\n",
    "    molfiles_pdb = [mol + '_gaff.pdb' for mol in resnames]                   \n",
    "    box = packmol.pack_box(molfiles_pdb, nmols, tolerance=2.0, box_size=boxsize)\n",
    "    box.save('box.pdb')\n",
    "    # Running tleap to create out.prmtop out.inpcrd for use with openmm\n",
    "    tleap_input = tleap_mixture(resnames,'box',solvate=solvate,run=True)"
   ]
  },
  {
   "cell_type": "code",
   "execution_count": 4,
   "metadata": {
    "collapsed": false,
    "scrolled": true
   },
   "outputs": [
    {
     "name": "stdout",
     "output_type": "stream",
     "text": [
      "\n",
      "# Mixture \n",
      "\n",
      "tolerance 2.000000\n",
      "filetype pdb\n",
      "output /var/folders/_2/bwj1fkzx78v92gc1lfvf8cv589gk45/T/tmpCteGuC.pdb\n",
      "add_amber_ter\n",
      "\n",
      "\n",
      "structure 1ED_gaff.pdb\n",
      "  number 1 \n",
      "  inside box 0. 0. 0. 15.000000 15.000000 15.000000\n",
      "end structure\n",
      "\n",
      "structure DYE_gaff.pdb\n",
      "  number 1 \n",
      "  inside box 0. 0. 0. 15.000000 15.000000 15.000000\n",
      "end structure\n",
      "\n",
      "\n",
      "# Mixture \n",
      "\n",
      "tolerance 2.000000\n",
      "filetype pdb\n",
      "output /var/folders/_2/bwj1fkzx78v92gc1lfvf8cv589gk45/T/tmpCteGuC.pdb\n",
      "add_amber_ter\n",
      "\n",
      "\n",
      "structure 1ED_gaff.pdb\n",
      "  number 1 \n",
      "  inside box 0. 0. 0. 15.000000 15.000000 15.000000\n",
      "end structure\n",
      "\n",
      "structure DYE_gaff.pdb\n",
      "  number 1 \n",
      "  inside box 0. 0. 0. 15.000000 15.000000 15.000000\n",
      "end structure\n",
      "\n"
     ]
    }
   ],
   "source": [
    "#nanopipeline('1E.mol2','IR783.mol2',ndrugs=5,ndye=2,boxsize=30,neutralize=False)\n",
    "mixture_setup(['1E.mol2','IR783.mol2'],['1ED','DYE'], [1,1],15,solvate=False)"
   ]
  },
  {
   "cell_type": "markdown",
   "metadata": {},
   "source": [
    "# Preparation without tleap"
   ]
  },
  {
   "cell_type": "code",
   "execution_count": 1,
   "metadata": {
    "collapsed": false
   },
   "outputs": [],
   "source": [
    "from simtk.openmm import app, unit\n",
    "from simtk import openmm\n",
    "import sys\n",
    "sys.path.append(\"/Users/rossg/software/openmoltools\")\n",
    "from openmoltools.forcefield_generators import gaffTemplateGenerator\n",
    "from openeye import oechem             # the whole of the openeye toolbox"
   ]
  },
  {
   "cell_type": "code",
   "execution_count": 2,
   "metadata": {
    "collapsed": false
   },
   "outputs": [],
   "source": [
    "def oemol2pdb(mol2name,pdbname):\n",
    "    mol = oechem.OEGraphMol()           # initialising molecule object\n",
    "    ifs = oechem.oemolistream()         # initialising INPUT stream for reading in data\n",
    "    ofs = oechem.oemolostream()         # initialising the OUTPUT stream for writing data\n",
    "    # Reading:\n",
    "    ifs.SetFormat(oechem.OEFormat_MOL2) # specifying mol2 format input\n",
    "    ifs.open(mol2name)           \n",
    "    if oechem.OEReadMolecule(ifs,mol):\n",
    "        pass\n",
    "    else:\n",
    "        print \"Problem loading molecule!\"\n",
    "    # Writing:\n",
    "    oechem.OETriposAtomNames(mol)           # Making the atoms unique\n",
    "    ofs.SetFormat(oechem.OEFormat_PDB)      # specifying that I want a pdb format \n",
    "    ofs.open(pdbname)\n",
    "    oechem.OEWriteMolecule(ofs,mol)"
   ]
  },
  {
   "cell_type": "markdown",
   "metadata": {},
   "source": [
    "If using packmol, we need to convert molecule into PDBs:"
   ]
  },
  {
   "cell_type": "code",
   "execution_count": 3,
   "metadata": {
    "collapsed": true
   },
   "outputs": [],
   "source": [
    "oemol2pdb('1E.mol2',\"1E.pdb\")\n",
    "oemol2pdb('IR783.mol2',\"IR783.pdb\")"
   ]
  },
  {
   "cell_type": "markdown",
   "metadata": {},
   "source": [
    "Using packmol to create mixture"
   ]
  },
  {
   "cell_type": "code",
   "execution_count": 6,
   "metadata": {
    "collapsed": false,
    "scrolled": true
   },
   "outputs": [
    {
     "name": "stdout",
     "output_type": "stream",
     "text": [
      "\n",
      "# Mixture \n",
      "\n",
      "tolerance 2.000000\n",
      "filetype pdb\n",
      "output /var/folders/_2/bwj1fkzx78v92gc1lfvf8cv589gk45/T/tmpdeCEVv.pdb\n",
      "add_amber_ter\n",
      "\n",
      "\n",
      "structure 1E.pdb\n",
      "  number 10 \n",
      "  inside box 0. 0. 0. 40.000000 40.000000 40.000000\n",
      "end structure\n",
      "\n",
      "structure IR783.pdb\n",
      "  number 3 \n",
      "  inside box 0. 0. 0. 40.000000 40.000000 40.000000\n",
      "end structure\n",
      "\n",
      "\n",
      "# Mixture \n",
      "\n",
      "tolerance 2.000000\n",
      "filetype pdb\n",
      "output /var/folders/_2/bwj1fkzx78v92gc1lfvf8cv589gk45/T/tmpdeCEVv.pdb\n",
      "add_amber_ter\n",
      "\n",
      "\n",
      "structure 1E.pdb\n",
      "  number 10 \n",
      "  inside box 0. 0. 0. 40.000000 40.000000 40.000000\n",
      "end structure\n",
      "\n",
      "structure IR783.pdb\n",
      "  number 3 \n",
      "  inside box 0. 0. 0. 40.000000 40.000000 40.000000\n",
      "end structure\n",
      "\n"
     ]
    }
   ],
   "source": [
    "box = packmol.pack_box([\"1E.pdb\",\"IR783.pdb\"], [10,3], tolerance=2.0, box_size=40)\n",
    "box.save('box.pdb')"
   ]
  },
  {
   "cell_type": "markdown",
   "metadata": {},
   "source": [
    "If the connect records are not present in the box of solvent, we can let openbabel infer the connections"
   ]
  },
  {
   "cell_type": "code",
   "execution_count": 6,
   "metadata": {
    "collapsed": true
   },
   "outputs": [],
   "source": [
    "#cmd = \"obabel -ipdb {0}.pdb -opdb -O {1}.pdb\".format(\"box\",\"box_cnt\")\n",
    "#subprocess.call(cmd,shell=True)"
   ]
  },
  {
   "cell_type": "markdown",
   "metadata": {},
   "source": [
    "This is how to generarate parameters within openmoltools without tleap"
   ]
  },
  {
   "cell_type": "code",
   "execution_count": 7,
   "metadata": {
    "collapsed": false
   },
   "outputs": [],
   "source": [
    "forcefield = app.ForceField('gaff.xml','tip3p.xml')\n",
    "forcefield.registerTemplateGenerator(gaffTemplateGenerator)\n",
    "pdb = app.PDBFile(\"box.pdb\")\n",
    "system = forcefield.createSystem(pdb.topology)"
   ]
  },
  {
   "cell_type": "markdown",
   "metadata": {},
   "source": [
    "Use modeller to add solvent and neutralize."
   ]
  },
  {
   "cell_type": "code",
   "execution_count": 8,
   "metadata": {
    "collapsed": false
   },
   "outputs": [],
   "source": [
    "modeller = app.Modeller(pdb.topology, pdb.positions)\n",
    "modeller.addSolvent(forcefield)"
   ]
  },
  {
   "cell_type": "code",
   "execution_count": 9,
   "metadata": {
    "collapsed": true
   },
   "outputs": [],
   "source": [
    "app.PDBFile.writeFile(modeller.topology, modeller.positions, open('output.pdb', 'w'))"
   ]
  },
  {
   "cell_type": "code",
   "execution_count": 11,
   "metadata": {
    "collapsed": false
   },
   "outputs": [
    {
     "ename": "RuntimeError",
     "evalue": "OEAssignPartialCharges returned error code 0",
     "output_type": "error",
     "traceback": [
      "\u001b[0;31m---------------------------------------------------------------------------\u001b[0m",
      "\u001b[0;31mRuntimeError\u001b[0m                              Traceback (most recent call last)",
      "\u001b[0;32m<ipython-input-11-27c041870393>\u001b[0m in \u001b[0;36m<module>\u001b[0;34m()\u001b[0m\n\u001b[1;32m      2\u001b[0m \u001b[0mforcefield\u001b[0m \u001b[0;34m=\u001b[0m \u001b[0mapp\u001b[0m\u001b[0;34m.\u001b[0m\u001b[0mForceField\u001b[0m\u001b[0;34m(\u001b[0m\u001b[0;34m'gaff.xml'\u001b[0m\u001b[0;34m,\u001b[0m\u001b[0;34m'tip3p.xml'\u001b[0m\u001b[0;34m)\u001b[0m\u001b[0;34m\u001b[0m\u001b[0m\n\u001b[1;32m      3\u001b[0m \u001b[0mforcefield\u001b[0m\u001b[0;34m.\u001b[0m\u001b[0mregisterTemplateGenerator\u001b[0m\u001b[0;34m(\u001b[0m\u001b[0mgaffTemplateGenerator\u001b[0m\u001b[0;34m)\u001b[0m\u001b[0;34m\u001b[0m\u001b[0m\n\u001b[0;32m----> 4\u001b[0;31m \u001b[0msystem\u001b[0m \u001b[0;34m=\u001b[0m \u001b[0mforcefield\u001b[0m\u001b[0;34m.\u001b[0m\u001b[0mcreateSystem\u001b[0m\u001b[0;34m(\u001b[0m\u001b[0mpdb\u001b[0m\u001b[0;34m.\u001b[0m\u001b[0mtopology\u001b[0m\u001b[0;34m,\u001b[0m\u001b[0mnonbondedMethod\u001b[0m\u001b[0;34m=\u001b[0m\u001b[0mapp\u001b[0m\u001b[0;34m.\u001b[0m\u001b[0mPME\u001b[0m\u001b[0;34m,\u001b[0m \u001b[0mnonbondedCutoff\u001b[0m\u001b[0;34m=\u001b[0m\u001b[0;36m1.0\u001b[0m\u001b[0;34m*\u001b[0m\u001b[0munit\u001b[0m\u001b[0;34m.\u001b[0m\u001b[0mnanometer\u001b[0m\u001b[0;34m,\u001b[0m \u001b[0mconstraints\u001b[0m\u001b[0;34m=\u001b[0m\u001b[0mapp\u001b[0m\u001b[0;34m.\u001b[0m\u001b[0mHBonds\u001b[0m\u001b[0;34m)\u001b[0m\u001b[0;34m\u001b[0m\u001b[0m\n\u001b[0m",
      "\u001b[0;32m/Users/rossg/miniconda2/lib/python2.7/site-packages/simtk/openmm/app/forcefield.pyc\u001b[0m in \u001b[0;36mcreateSystem\u001b[0;34m(self, topology, nonbondedMethod, nonbondedCutoff, constraints, rigidWater, removeCMMotion, hydrogenMass, **args)\u001b[0m\n\u001b[1;32m    771\u001b[0m                     \u001b[0;31m# No existing templates match.  Try any registered residue template generators.\u001b[0m\u001b[0;34m\u001b[0m\u001b[0;34m\u001b[0m\u001b[0m\n\u001b[1;32m    772\u001b[0m                     \u001b[0;32mfor\u001b[0m \u001b[0mgenerator\u001b[0m \u001b[0;32min\u001b[0m \u001b[0mself\u001b[0m\u001b[0;34m.\u001b[0m\u001b[0m_templateGenerators\u001b[0m\u001b[0;34m:\u001b[0m\u001b[0;34m\u001b[0m\u001b[0m\n\u001b[0;32m--> 773\u001b[0;31m                         \u001b[0;32mif\u001b[0m \u001b[0mgenerator\u001b[0m\u001b[0;34m(\u001b[0m\u001b[0mself\u001b[0m\u001b[0;34m,\u001b[0m \u001b[0mres\u001b[0m\u001b[0;34m)\u001b[0m\u001b[0;34m:\u001b[0m\u001b[0;34m\u001b[0m\u001b[0m\n\u001b[0m\u001b[1;32m    774\u001b[0m                             \u001b[0;31m# This generator has registered a new residue template that should match.\u001b[0m\u001b[0;34m\u001b[0m\u001b[0;34m\u001b[0m\u001b[0m\n\u001b[1;32m    775\u001b[0m                             \u001b[0;34m[\u001b[0m\u001b[0mtemplate\u001b[0m\u001b[0;34m,\u001b[0m \u001b[0mmatches\u001b[0m\u001b[0;34m]\u001b[0m \u001b[0;34m=\u001b[0m \u001b[0mself\u001b[0m\u001b[0;34m.\u001b[0m\u001b[0m_getResidueTemplateMatches\u001b[0m\u001b[0;34m(\u001b[0m\u001b[0mres\u001b[0m\u001b[0;34m,\u001b[0m \u001b[0mbondedToAtom\u001b[0m\u001b[0;34m)\u001b[0m\u001b[0;34m\u001b[0m\u001b[0m\n",
      "\u001b[0;32m/Users/rossg/miniconda2/lib/python2.7/site-packages/openmoltools/forcefield_generators.pyc\u001b[0m in \u001b[0;36mgaffTemplateGenerator\u001b[0;34m(forcefield, residue, structure)\u001b[0m\n\u001b[1;32m    483\u001b[0m \u001b[0;34m\u001b[0m\u001b[0m\n\u001b[1;32m    484\u001b[0m     \u001b[0;31m# Generate template and parameters.\u001b[0m\u001b[0;34m\u001b[0m\u001b[0;34m\u001b[0m\u001b[0m\n\u001b[0;32m--> 485\u001b[0;31m     \u001b[0;34m[\u001b[0m\u001b[0mtemplate\u001b[0m\u001b[0;34m,\u001b[0m \u001b[0mffxml\u001b[0m\u001b[0;34m]\u001b[0m \u001b[0;34m=\u001b[0m \u001b[0mgenerateResidueTemplate\u001b[0m\u001b[0;34m(\u001b[0m\u001b[0mmolecule\u001b[0m\u001b[0;34m)\u001b[0m\u001b[0;34m\u001b[0m\u001b[0m\n\u001b[0m\u001b[1;32m    486\u001b[0m \u001b[0;34m\u001b[0m\u001b[0m\n\u001b[1;32m    487\u001b[0m     \u001b[0;31m# Register the template.\u001b[0m\u001b[0;34m\u001b[0m\u001b[0;34m\u001b[0m\u001b[0m\n",
      "\u001b[0;32m/Users/rossg/miniconda2/lib/python2.7/site-packages/openmoltools/forcefield_generators.pyc\u001b[0m in \u001b[0;36mgenerateResidueTemplate\u001b[0;34m(molecule, residue_atoms)\u001b[0m\n\u001b[1;32m    260\u001b[0m \u001b[0;34m\u001b[0m\u001b[0m\n\u001b[1;32m    261\u001b[0m     \u001b[0;31m# Generate canonical AM1-BCC charges and a reference conformation.\u001b[0m\u001b[0;34m\u001b[0m\u001b[0;34m\u001b[0m\u001b[0m\n\u001b[0;32m--> 262\u001b[0;31m     \u001b[0mmolecule\u001b[0m \u001b[0;34m=\u001b[0m \u001b[0mget_charges\u001b[0m\u001b[0;34m(\u001b[0m\u001b[0mmolecule\u001b[0m\u001b[0;34m,\u001b[0m \u001b[0mstrictStereo\u001b[0m\u001b[0;34m=\u001b[0m\u001b[0mFalse\u001b[0m\u001b[0;34m,\u001b[0m \u001b[0mkeep_confs\u001b[0m\u001b[0;34m=\u001b[0m\u001b[0;36m1\u001b[0m\u001b[0;34m)\u001b[0m\u001b[0;34m\u001b[0m\u001b[0m\n\u001b[0m\u001b[1;32m    263\u001b[0m \u001b[0;34m\u001b[0m\u001b[0m\n\u001b[1;32m    264\u001b[0m     \u001b[0;31m# DEBUG: This may be necessary.\u001b[0m\u001b[0;34m\u001b[0m\u001b[0;34m\u001b[0m\u001b[0m\n",
      "\u001b[0;32m/Users/rossg/miniconda2/lib/python2.7/site-packages/openmoltools/openeye.pyc\u001b[0m in \u001b[0;36mget_charges\u001b[0;34m(molecule, max_confs, strictStereo, normalize, keep_confs)\u001b[0m\n\u001b[1;32m     66\u001b[0m \u001b[0;34m\u001b[0m\u001b[0m\n\u001b[1;32m     67\u001b[0m     \u001b[0;32mif\u001b[0m \u001b[0;32mnot\u001b[0m \u001b[0mstatus\u001b[0m\u001b[0;34m:\u001b[0m\u001b[0;34m\u001b[0m\u001b[0m\n\u001b[0;32m---> 68\u001b[0;31m         \u001b[0;32mraise\u001b[0m\u001b[0;34m(\u001b[0m\u001b[0mRuntimeError\u001b[0m\u001b[0;34m(\u001b[0m\u001b[0;34m\"OEAssignPartialCharges returned error code %d\"\u001b[0m \u001b[0;34m%\u001b[0m \u001b[0mstatus\u001b[0m\u001b[0;34m)\u001b[0m\u001b[0;34m)\u001b[0m\u001b[0;34m\u001b[0m\u001b[0m\n\u001b[0m\u001b[1;32m     69\u001b[0m \u001b[0;34m\u001b[0m\u001b[0m\n\u001b[1;32m     70\u001b[0m     \u001b[0;31m#Determine conformations to return\u001b[0m\u001b[0;34m\u001b[0m\u001b[0;34m\u001b[0m\u001b[0m\n",
      "\u001b[0;31mRuntimeError\u001b[0m: OEAssignPartialCharges returned error code 0"
     ]
    }
   ],
   "source": [
    "pdb = app.PDBFile(\"output.pdb\")\n",
    "forcefield = app.ForceField('gaff.xml','tip3p.xml')\n",
    "forcefield.registerTemplateGenerator(gaffTemplateGenerator)\n",
    "system = forcefield.createSystem(pdb.topology,nonbondedMethod=app.PME, nonbondedCutoff=1.0*unit.nanometer, constraints=app.HBonds)"
   ]
  },
  {
   "cell_type": "code",
   "execution_count": null,
   "metadata": {
    "collapsed": true
   },
   "outputs": [],
   "source": [
    "system = forcefield.createSystem"
   ]
  },
  {
   "cell_type": "code",
   "execution_count": 14,
   "metadata": {
    "collapsed": false
   },
   "outputs": [],
   "source": [
    "app.PDBFile.writeFile(modeller.topology, modeller.positions, open('output.pdb', 'w'))"
   ]
  },
  {
   "cell_type": "code",
   "execution_count": null,
   "metadata": {
    "collapsed": true
   },
   "outputs": [],
   "source": []
  }
 ],
 "metadata": {
  "kernelspec": {
   "display_name": "Python 2",
   "language": "python",
   "name": "python2"
  },
  "language_info": {
   "codemirror_mode": {
    "name": "ipython",
    "version": 2
   },
   "file_extension": ".py",
   "mimetype": "text/x-python",
   "name": "python",
   "nbconvert_exporter": "python",
   "pygments_lexer": "ipython2",
   "version": "2.7.11"
  }
 },
 "nbformat": 4,
 "nbformat_minor": 0
}
