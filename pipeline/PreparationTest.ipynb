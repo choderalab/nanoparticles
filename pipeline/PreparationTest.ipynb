{
 "cells": [
  {
   "cell_type": "markdown",
   "metadata": {},
   "source": [
    "# Testing a preparation pipeline for mixture simulations\n",
    "Creating a pure python setup, whose inputs are the drug molecule and dye, numbers of each, volume, and the outputs are the parameterized molecules simulation starting structures."
   ]
  },
  {
   "cell_type": "markdown",
   "metadata": {},
   "source": [
    "## 1. Parameterizing with OpenEye"
   ]
  },
  {
   "cell_type": "code",
   "execution_count": 34,
   "metadata": {
    "collapsed": false
   },
   "outputs": [],
   "source": [
    "import sys\n",
    "sys.path.append(\"/Users/rossg/Work/nanoparticles/pipeline\")\n",
    "#from openmoltools import openeye         # for Choderalab wrappers of openeye software\n",
    "import openeye_mod as openeye             # personal modification of antechamber file generation function\n",
    "from openeye.oechem import *             # the whole of the openeye toolbox"
   ]
  },
  {
   "cell_type": "markdown",
   "metadata": {
    "collapsed": false
   },
   "source": [
    "First, loading the molecule as an openeye molecule object. Here, the molecule happens to be a mol2, but more filetypes are supported http://docs.eyesopen.com/toolkits/python/oechemtk/molreadwrite.html#chapter-molreadwrite"
   ]
  },
  {
   "cell_type": "code",
   "execution_count": 70,
   "metadata": {
    "collapsed": false
   },
   "outputs": [],
   "source": [
    "mol = OEGraphMol()           # initialising molecule object\n",
    "ifs = oemolistream()         # initialising input stream for reading in data\n",
    "ifs.SetFormat(OEFormat_MOL2) # specifying mol2 format input\n",
    "ifs.open('1E.mol2')           \n",
    "if OEReadMolecule(ifs,mol):  # this function automatically returns True or False, to help spot for errors. \n",
    "    pass\n",
    "else:\n",
    "    print \"Problem loading molecule!\""
   ]
  },
  {
   "cell_type": "markdown",
   "metadata": {},
   "source": [
    "Now that the molecule has been loaded, we can do things like add hydrogens and rename to the standard IUPAC scheme using the Choderalab wrapper."
   ]
  },
  {
   "cell_type": "code",
   "execution_count": 71,
   "metadata": {
    "collapsed": false
   },
   "outputs": [],
   "source": [
    "mol = openeye.normalize_molecule(mol)"
   ]
  },
  {
   "cell_type": "markdown",
   "metadata": {},
   "source": [
    "And add partial charges with openeye's method flavour of AM1-BCC, or skip straight to generating antechamber files with `oemol_to_antechamber`, which automatically adds charges."
   ]
  },
  {
   "cell_type": "code",
   "execution_count": 6,
   "metadata": {
    "collapsed": false
   },
   "outputs": [],
   "source": [
    "#\n",
    "openeye.oemol_to_antechamber(mol,'1e_gaff.mol2','1e.frcmod')"
   ]
  },
  {
   "cell_type": "markdown",
   "metadata": {},
   "source": [
    "For the solvation of the system with `modeller`, I'll try creating an forcefield xml object of the molecule. This would negate the AMBER Leap setup stage.\n",
    "\n",
    "I need to generate charges for the ligand first."
   ]
  },
  {
   "cell_type": "code",
   "execution_count": 72,
   "metadata": {
    "collapsed": false
   },
   "outputs": [
    {
     "name": "stdout",
     "output_type": "stream",
     "text": [
      "/Users/rossg/Work/nanoparticles/pipeline\n"
     ]
    }
   ],
   "source": [
    "mol = openeye.get_charges(mol)\n",
    "traj,ffxml = openeye.oemols_to_ffxml([mol])"
   ]
  },
  {
   "cell_type": "markdown",
   "metadata": {},
   "source": [
    "Hopefully, ffxml will work as an openmm forcefield object."
   ]
  },
  {
   "cell_type": "markdown",
   "metadata": {},
   "source": [
    "# 2. Packmol\n",
    "Creating a box of a mixture of drugs and dyes. Packmol requires PDB files, so using OEChem to produce the pdbs for me. The starting structure is the gaff mol2 file produced above."
   ]
  },
  {
   "cell_type": "code",
   "execution_count": 66,
   "metadata": {
    "collapsed": false
   },
   "outputs": [
    {
     "data": {
      "text/plain": [
       "0"
      ]
     },
     "execution_count": 66,
     "metadata": {},
     "output_type": "execute_result"
    }
   ],
   "source": [
    "mol = OEGraphMol()           # initialising molecule object\n",
    "ifs = oemolistream()         # initialising INPUT stream for reading in data\n",
    "ofs = oemolostream()         # initialising the OUTPUT stream for writing data\n",
    "# Reading:\n",
    "ifs.SetFormat(OEFormat_MOL2) # specifying mol2 format input\n",
    "#ifs.open('ie_gaff.mol2')           \n",
    "ifs.open(\"MOL-0-0.gaff.mol2\")\n",
    "if OEReadMolecule(ifs,mol):  \\\n",
    "    pass\n",
    "else:\n",
    "    print \"Problem loading molecule!\"\n",
    "\n",
    "# Writing:\n",
    "ofs.SetFormat(OEFormat_PDB)      # specifying that I want a pdb format \n",
    "ofs.open('1e_gaff.pdb')\n",
    "OEWriteMolecule(ofs,mol)"
   ]
  },
  {
   "cell_type": "markdown",
   "metadata": {},
   "source": [
    "I'll use packmol to create a box of drug. The output is an mdtraj object. Either water is added here, or the box is solvated with OpenMM's `modeller`."
   ]
  },
  {
   "cell_type": "code",
   "execution_count": 67,
   "metadata": {
    "collapsed": true
   },
   "outputs": [],
   "source": [
    "from openmoltools import packmol"
   ]
  },
  {
   "cell_type": "code",
   "execution_count": 68,
   "metadata": {
    "collapsed": false
   },
   "outputs": [
    {
     "name": "stdout",
     "output_type": "stream",
     "text": [
      "\n",
      "# Mixture \n",
      "\n",
      "tolerance 2.000000\n",
      "filetype pdb\n",
      "output /var/folders/_2/bwj1fkzx78v92gc1lfvf8cv589gk45/T/tmpjxO5gA.pdb\n",
      "add_amber_ter\n",
      "\n",
      "\n",
      "structure 1e_gaff.pdb\n",
      "  number 50 \n",
      "  inside box 0. 0. 0. 160.000000 160.000000 160.000000\n",
      "end structure\n",
      "\n",
      "\n",
      "# Mixture \n",
      "\n",
      "tolerance 2.000000\n",
      "filetype pdb\n",
      "output /var/folders/_2/bwj1fkzx78v92gc1lfvf8cv589gk45/T/tmpjxO5gA.pdb\n",
      "add_amber_ter\n",
      "\n",
      "\n",
      "structure 1e_gaff.pdb\n",
      "  number 50 \n",
      "  inside box 0. 0. 0. 160.000000 160.000000 160.000000\n",
      "end structure\n",
      "\n"
     ]
    }
   ],
   "source": [
    "box = packmol.pack_box(['1e_gaff.pdb'],[50], tolerance=2.0, box_size=160)\n",
    "box.save('box.pdb')"
   ]
  },
  {
   "cell_type": "markdown",
   "metadata": {},
   "source": [
    "## 3. Solvation with OpenMM's `modeller`"
   ]
  },
  {
   "cell_type": "code",
   "execution_count": 25,
   "metadata": {
    "collapsed": false
   },
   "outputs": [],
   "source": [
    "from simtk.openmm.app import *\n",
    "from simtk.openmm import *\n",
    "from simtk.unit import *"
   ]
  },
  {
   "cell_type": "code",
   "execution_count": 73,
   "metadata": {
    "collapsed": false
   },
   "outputs": [
    {
     "ename": "ValueError",
     "evalue": "No template found for residue 1 (MOL).  This might mean your input topology is missing some atoms or bonds, or possibly that you are using the wrong force field.",
     "output_type": "error",
     "traceback": [
      "\u001b[0;31m---------------------------------------------------------------------------\u001b[0m",
      "\u001b[0;31mValueError\u001b[0m                                Traceback (most recent call last)",
      "\u001b[0;32m<ipython-input-73-fc2d7dbe1f3e>\u001b[0m in \u001b[0;36m<module>\u001b[0;34m()\u001b[0m\n\u001b[1;32m      2\u001b[0m \u001b[0mforcefield\u001b[0m \u001b[0;34m=\u001b[0m \u001b[0mForceField\u001b[0m\u001b[0;34m(\u001b[0m\u001b[0mffxml\u001b[0m\u001b[0;34m,\u001b[0m\u001b[0;34m'tip3p.xml'\u001b[0m\u001b[0;34m)\u001b[0m\u001b[0;34m\u001b[0m\u001b[0m\n\u001b[1;32m      3\u001b[0m \u001b[0mmodeller\u001b[0m \u001b[0;34m=\u001b[0m \u001b[0mModeller\u001b[0m\u001b[0;34m(\u001b[0m\u001b[0mpdb\u001b[0m\u001b[0;34m.\u001b[0m\u001b[0mtopology\u001b[0m\u001b[0;34m,\u001b[0m \u001b[0mpdb\u001b[0m\u001b[0;34m.\u001b[0m\u001b[0mpositions\u001b[0m\u001b[0;34m)\u001b[0m\u001b[0;34m\u001b[0m\u001b[0m\n\u001b[0;32m----> 4\u001b[0;31m \u001b[0mmodeller\u001b[0m\u001b[0;34m.\u001b[0m\u001b[0maddSolvent\u001b[0m\u001b[0;34m(\u001b[0m\u001b[0mforcefield\u001b[0m\u001b[0;34m,\u001b[0m \u001b[0mmodel\u001b[0m\u001b[0;34m=\u001b[0m\u001b[0;34m'tip3p'\u001b[0m\u001b[0;34m,\u001b[0m \u001b[0mpadding\u001b[0m\u001b[0;34m=\u001b[0m\u001b[0;36m1\u001b[0m\u001b[0;34m*\u001b[0m\u001b[0mnanometer\u001b[0m\u001b[0;34m)\u001b[0m\u001b[0;34m\u001b[0m\u001b[0m\n\u001b[0m",
      "\u001b[0;32m/Users/rossg/miniconda2/lib/python2.7/site-packages/simtk/openmm/app/modeller.pyc\u001b[0m in \u001b[0;36maddSolvent\u001b[0;34m(self, forcefield, model, boxSize, boxVectors, padding, numAdded, positiveIon, negativeIon, ionicStrength, neutralize)\u001b[0m\n\u001b[1;32m    370\u001b[0m         \u001b[0;31m# Have the ForceField build a System for the solute from which we can determine van der Waals radii.\u001b[0m\u001b[0;34m\u001b[0m\u001b[0;34m\u001b[0m\u001b[0m\n\u001b[1;32m    371\u001b[0m \u001b[0;34m\u001b[0m\u001b[0m\n\u001b[0;32m--> 372\u001b[0;31m         \u001b[0msystem\u001b[0m \u001b[0;34m=\u001b[0m \u001b[0mforcefield\u001b[0m\u001b[0;34m.\u001b[0m\u001b[0mcreateSystem\u001b[0m\u001b[0;34m(\u001b[0m\u001b[0mself\u001b[0m\u001b[0;34m.\u001b[0m\u001b[0mtopology\u001b[0m\u001b[0;34m)\u001b[0m\u001b[0;34m\u001b[0m\u001b[0m\n\u001b[0m\u001b[1;32m    373\u001b[0m         \u001b[0mnonbonded\u001b[0m \u001b[0;34m=\u001b[0m \u001b[0mNone\u001b[0m\u001b[0;34m\u001b[0m\u001b[0m\n\u001b[1;32m    374\u001b[0m         \u001b[0;32mfor\u001b[0m \u001b[0mi\u001b[0m \u001b[0;32min\u001b[0m \u001b[0mrange\u001b[0m\u001b[0;34m(\u001b[0m\u001b[0msystem\u001b[0m\u001b[0;34m.\u001b[0m\u001b[0mgetNumForces\u001b[0m\u001b[0;34m(\u001b[0m\u001b[0;34m)\u001b[0m\u001b[0;34m)\u001b[0m\u001b[0;34m:\u001b[0m\u001b[0;34m\u001b[0m\u001b[0m\n",
      "\u001b[0;32m/Users/rossg/miniconda2/lib/python2.7/site-packages/simtk/openmm/app/forcefield.pyc\u001b[0m in \u001b[0;36mcreateSystem\u001b[0;34m(self, topology, nonbondedMethod, nonbondedCutoff, constraints, rigidWater, removeCMMotion, hydrogenMass, **args)\u001b[0m\n\u001b[1;32m    783\u001b[0m                 \u001b[0;31m# Raise an exception if we have found no templates that match.\u001b[0m\u001b[0;34m\u001b[0m\u001b[0;34m\u001b[0m\u001b[0m\n\u001b[1;32m    784\u001b[0m                 \u001b[0;32mif\u001b[0m \u001b[0mmatches\u001b[0m \u001b[0;32mis\u001b[0m \u001b[0mNone\u001b[0m\u001b[0;34m:\u001b[0m\u001b[0;34m\u001b[0m\u001b[0m\n\u001b[0;32m--> 785\u001b[0;31m                     \u001b[0;32mraise\u001b[0m \u001b[0mValueError\u001b[0m\u001b[0;34m(\u001b[0m\u001b[0;34m'No template found for residue %d (%s).  %s'\u001b[0m \u001b[0;34m%\u001b[0m \u001b[0;34m(\u001b[0m\u001b[0mres\u001b[0m\u001b[0;34m.\u001b[0m\u001b[0mindex\u001b[0m\u001b[0;34m+\u001b[0m\u001b[0;36m1\u001b[0m\u001b[0;34m,\u001b[0m \u001b[0mres\u001b[0m\u001b[0;34m.\u001b[0m\u001b[0mname\u001b[0m\u001b[0;34m,\u001b[0m \u001b[0m_findMatchErrors\u001b[0m\u001b[0;34m(\u001b[0m\u001b[0mself\u001b[0m\u001b[0;34m,\u001b[0m \u001b[0mres\u001b[0m\u001b[0;34m)\u001b[0m\u001b[0;34m)\u001b[0m\u001b[0;34m)\u001b[0m\u001b[0;34m\u001b[0m\u001b[0m\n\u001b[0m\u001b[1;32m    786\u001b[0m \u001b[0;34m\u001b[0m\u001b[0m\n\u001b[1;32m    787\u001b[0m                 \u001b[0;31m# Store parameters for the matched residue template.\u001b[0m\u001b[0;34m\u001b[0m\u001b[0;34m\u001b[0m\u001b[0m\n",
      "\u001b[0;31mValueError\u001b[0m: No template found for residue 1 (MOL).  This might mean your input topology is missing some atoms or bonds, or possibly that you are using the wrong force field."
     ]
    }
   ],
   "source": [
    "pdb = PDBFile('box.pdb')\n",
    "forcefield = ForceField(ffxml,'tip3p.xml')\n",
    "modeller = Modeller(pdb.topology, pdb.positions)\n",
    "modeller.addSolvent(forcefield, model='tip3p', padding=1*nanometer)"
   ]
  },
  {
   "cell_type": "code",
   "execution_count": 74,
   "metadata": {
    "collapsed": false
   },
   "outputs": [
    {
     "data": {
      "text/plain": [
       "''"
      ]
     },
     "execution_count": 74,
     "metadata": {},
     "output_type": "execute_result"
    }
   ],
   "source": [
    "ffxml.read()"
   ]
  },
  {
   "cell_type": "code",
   "execution_count": 75,
   "metadata": {
    "collapsed": false
   },
   "outputs": [
    {
     "data": {
      "text/plain": [
       "[]"
      ]
     },
     "execution_count": 75,
     "metadata": {},
     "output_type": "execute_result"
    }
   ],
   "source": [
    "ffxml.readlines()"
   ]
  },
  {
   "cell_type": "code",
   "execution_count": 76,
   "metadata": {
    "collapsed": false
   },
   "outputs": [],
   "source": [
    "s = traj[0]"
   ]
  },
  {
   "cell_type": "code",
   "execution_count": 77,
   "metadata": {
    "collapsed": false
   },
   "outputs": [
    {
     "data": {
      "text/plain": [
       "52"
      ]
     },
     "execution_count": 77,
     "metadata": {},
     "output_type": "execute_result"
    }
   ],
   "source": [
    "s.n_atoms"
   ]
  },
  {
   "cell_type": "code",
   "execution_count": 78,
   "metadata": {
    "collapsed": false
   },
   "outputs": [],
   "source": [
    "res = [res for res in s.topology.residues][0]\n"
   ]
  },
  {
   "cell_type": "code",
   "execution_count": 61,
   "metadata": {
    "collapsed": false
   },
   "outputs": [
    {
     "data": {
      "text/plain": [
       "'MOL'"
      ]
     },
     "execution_count": 61,
     "metadata": {},
     "output_type": "execute_result"
    }
   ],
   "source": [
    "res.name"
   ]
  },
  {
   "cell_type": "code",
   "execution_count": null,
   "metadata": {
    "collapsed": true
   },
   "outputs": [],
   "source": []
  }
 ],
 "metadata": {
  "kernelspec": {
   "display_name": "Python 2",
   "language": "python",
   "name": "python2"
  },
  "language_info": {
   "codemirror_mode": {
    "name": "ipython",
    "version": 2
   },
   "file_extension": ".py",
   "mimetype": "text/x-python",
   "name": "python",
   "nbconvert_exporter": "python",
   "pygments_lexer": "ipython2",
   "version": "2.7.11"
  }
 },
 "nbformat": 4,
 "nbformat_minor": 0
}
