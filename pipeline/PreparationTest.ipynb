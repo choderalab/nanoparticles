{
 "cells": [
  {
   "cell_type": "code",
   "execution_count": 51,
   "metadata": {
    "collapsed": true
   },
   "outputs": [],
   "source": [
    "import sys\n",
    "sys.path.append(\"/Users/rossg/Work/nanoparticles/pipeline\")\n",
    "#from openmoltools import openeye         # for Choderalab wrappers of openeye software\n",
    "import openeye_mod as openeye             # personal modification of antechamber file generation function\n",
    "import openeye.oechem as oechem\n",
    "from openmoltools import packmol\n",
    "import parmed as pmd\n",
    "import subprocess\n",
    "import os"
   ]
  },
  {
   "cell_type": "markdown",
   "metadata": {},
   "source": [
    "# Preparation via tleap"
   ]
  },
  {
   "cell_type": "markdown",
   "metadata": {},
   "source": [
    "Creating a set of functions to automate the setup."
   ]
  },
  {
   "cell_type": "code",
   "execution_count": 77,
   "metadata": {
    "collapsed": false
   },
   "outputs": [],
   "source": [
    "def parametrize_mol(inname,resname):\n",
    "    mol = OEGraphMol()           # initialising molecule object\n",
    "    ifs = oemolistream()         # initialising input stream for reading in data\n",
    "    ifs.SetFormat(OEFormat_MOL2) # specifying mol2 format input\n",
    "    ifs.open(inname)           \n",
    "    if OEReadMolecule(ifs,mol):  # this function automatically returns True or False, to help spot for errors. \n",
    "        pass\n",
    "    else:\n",
    "        print \"Problem loading molecule!\"\n",
    "    mol = oechem.OEMol(mol)    \n",
    "    oechem.OEAssignAromaticFlags(mol, oechem.OEAroModelOpenEye)    \n",
    "    oechem.OEAddExplicitHydrogens(mol)\n",
    "    mol.SetTitle(resname)\n",
    "    if any([atom.GetName() == '' for atom in mol.GetAtoms()]):\n",
    "        oechem.OETriposAtomNames(mol)\n",
    "    openeye.oemol_to_antechamber(mol,resname+'_gaff.mol2',resname+'.frcmod',residue_name=resname)\n",
    "    \n",
    "def mol2pdb(inname):\n",
    "    outname = inname.split('.')[0] + '.pdb'\n",
    "    parm = pmd.load_file(inname,structure=False)\n",
    "    parm.save(outname,overwrite=True)\n",
    "    \n",
    "def tleap_nanosim(drugname,dyename,boxname):\n",
    "    tleap_input = \"\"\"\n",
    "    source oldff/leaprc.ff99SB\n",
    "    source leaprc.gaff\n",
    "    {0} = loadmol2 {0}_gaff.mol2\n",
    "    {1} = loadmol2 {1}_gaff.mol2\n",
    "    loadamberparams {0}.frcmod\n",
    "    loadamberparams {1}.frcmod\n",
    "    {2} = loadpdb {2}.pdb\n",
    "    solvateBox box TIP3PBOX 0.5\n",
    "    addIons2 box Na+ 0\n",
    "    saveamberparm {2} out.prmtop out.inpcrd\n",
    "    quit\n",
    "    \"\"\".format(drugname,dyename,boxname)\n",
    "    file_handle = open('tleap_commands', 'w')\n",
    "    file_handle.writelines(tleap_input)\n",
    "    file_handle.close()\n",
    "\n",
    "    cmd = \"tleap -f {0}\".format(file_handle.name)\n",
    "    subprocess.call(cmd,shell=True)\n",
    "    \n",
    "def nanopipeline(drugmol2,dyemol2,drugname='LIG',dyename='DYE',ndrugs=10,ndye=20,boxsize=50):\n",
    "    \"\"\"\n",
    "    Starting with the mol2 files of drug and dye, the molecules are parametrised, assembled uniformly in \n",
    "    cubic box, and AMBER prmtop and inpcrd files are created for the system. \n",
    "    \n",
    "    Parameters\n",
    "    ----------\n",
    "    drugmol2, dyemol2  : str, str\n",
    "      the mol2 file name of the drug/dye, with or without hydrogens\n",
    "    drugname, dyename  : str, str\n",
    "      the residue name you want for the drug/dye residue name and output file naming schemes\n",
    "    ndrugs/ndye: int\n",
    "      the number of drug/dye molecules you want in the box\n",
    "    boxsize: int\n",
    "      the length of the cubic box in Angstroms\n",
    "      \n",
    "    Returns\n",
    "    -------\n",
    "    out.inpcrd and out.out.prmtop are created in the working directory, as well gaff output files\n",
    "    \"\"\"\n",
    "    \n",
    "    # Parmetrizing with antechamber via openeye:\n",
    "    parametrize_mol(drugmol2,drugname)\n",
    "    parametrize_mol(dyemol2,dyename)\n",
    "    # Creating box of drugs and dye. Packmol requires PDB files\n",
    "    mol2pdb(drugname+'_gaff.mol2')\n",
    "    mol2pdb(dyename+'_gaff.mol2')\n",
    "    box = packmol.pack_box([drugname+'_gaff.pdb',dyename+'_gaff.pdb'],[ndrugs,ndye], tolerance=2.0, box_size=boxsize)\n",
    "    box.save('box.pdb')\n",
    "    os.remove(drugname+'_gaff.pdb')\n",
    "    os.remove(dyename+'_gaff.pdb')\n",
    "    # Running tleap to create out.prmtop out.inpcrd for use with openmm\n",
    "    tleap_nanosim(drugname,dyename,'box.pdb')\n",
    "                            \n",
    "def mixture_setup(molfiles,resnames,nmols,boxsize):\n",
    "    \"\"\"\n",
    "    Unifinished function that generalises the function 'nanopipeline' for general mixtures.\n",
    "    TODO: adapt 'tleap_nanosim' so that an arbitrary number of gaff files are loaded into tleap.\n",
    "    \"\"\"\n",
    "    \n",
    "    # Parmetrizing with antechamber via openeye:\n",
    "    for i in range(len(molfiles)): parametrize_mol(molfiles[i],resname[i])\n",
    "    # Creating box of drugs and dye. Packmol requires PDB files\n",
    "    for i in range(len(molfiles)): mol2pdb(resnames[i]+'_gaff.mol2')\n",
    "    molfiles_pdb = [mol + '_gaff.pdb' for mol in resnames]                   \n",
    "    box = packmol.pack_box(molfiles_pdb, nmols, tolerance=2.0, box_size=boxsize)\n",
    "    box.save('box.pdb')\n",
    "    # Running tleap to create out.prmtop out.inpcrd for use with openmm\n",
    "    tleap_nanosim(resnames,'box.pdb')                          "
   ]
  },
  {
   "cell_type": "code",
   "execution_count": 78,
   "metadata": {
    "collapsed": false
   },
   "outputs": [
    {
     "name": "stdout",
     "output_type": "stream",
     "text": [
      "\n",
      "# Mixture \n",
      "\n",
      "tolerance 2.000000\n",
      "filetype pdb\n",
      "output /var/folders/_2/bwj1fkzx78v92gc1lfvf8cv589gk45/T/tmpyPNmUB.pdb\n",
      "add_amber_ter\n",
      "\n",
      "\n",
      "structure LIG_gaff.pdb\n",
      "  number 10 \n",
      "  inside box 0. 0. 0. 50.000000 50.000000 50.000000\n",
      "end structure\n",
      "\n",
      "structure DYE_gaff.pdb\n",
      "  number 20 \n",
      "  inside box 0. 0. 0. 50.000000 50.000000 50.000000\n",
      "end structure\n",
      "\n",
      "\n",
      "# Mixture \n",
      "\n",
      "tolerance 2.000000\n",
      "filetype pdb\n",
      "output /var/folders/_2/bwj1fkzx78v92gc1lfvf8cv589gk45/T/tmpyPNmUB.pdb\n",
      "add_amber_ter\n",
      "\n",
      "\n",
      "structure LIG_gaff.pdb\n",
      "  number 10 \n",
      "  inside box 0. 0. 0. 50.000000 50.000000 50.000000\n",
      "end structure\n",
      "\n",
      "structure DYE_gaff.pdb\n",
      "  number 20 \n",
      "  inside box 0. 0. 0. 50.000000 50.000000 50.000000\n",
      "end structure\n",
      "\n"
     ]
    }
   ],
   "source": [
    "nanopipeline('1E.mol2','IR783.mol2')"
   ]
  }
 ],
 "metadata": {
  "kernelspec": {
   "display_name": "Python 2",
   "language": "python",
   "name": "python2"
  },
  "language_info": {
   "codemirror_mode": {
    "name": "ipython",
    "version": 2
   },
   "file_extension": ".py",
   "mimetype": "text/x-python",
   "name": "python",
   "nbconvert_exporter": "python",
   "pygments_lexer": "ipython2",
   "version": "2.7.11"
  }
 },
 "nbformat": 4,
 "nbformat_minor": 0
}
