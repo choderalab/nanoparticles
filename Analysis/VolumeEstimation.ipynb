{
 "cells": [
  {
   "cell_type": "markdown",
   "metadata": {},
   "source": [
    "# Volume estimation tools\n",
    "\n",
    "Presenting three tools for the estimation of solvent system volume using MDTraj:\n",
    " 1. Grid counting, using spherical smoothing of atoms.\n",
    " 2. Monte Carlo, with random uniform sampling of points.\n",
    " 3. Grid counting with numpy's own 3D histogram. Incomplete."
   ]
  },
  {
   "cell_type": "code",
   "execution_count": 1,
   "metadata": {
    "collapsed": false
   },
   "outputs": [],
   "source": [
    "# Importing everything.\n",
    "import warnings\n",
    "import mdtraj as md\n",
    "import numpy as np\n",
    "import matplotlib.pyplot as plt\n",
    "from IPython.display import Image\n",
    "\n",
    "warnings.filterwarnings('ignore', category=DeprecationWarning, message='.*use @default decorator instead.*')\n",
    "from mdtraj.geometry.sasa import _ATOMIC_RADII\n",
    "_ATOMIC_RADII['Cl'] = 0.175\n",
    "\n",
    "%matplotlib inline\n",
    "\n",
    "from datetime import datetime"
   ]
  },
  {
   "cell_type": "code",
   "execution_count": 2,
   "metadata": {
    "collapsed": false
   },
   "outputs": [
    {
     "name": "stderr",
     "output_type": "stream",
     "text": [
      "/Users/rossg/miniconda2/lib/python2.7/site-packages/mdtraj/formats/pdb/pdbfile.py:194: RuntimeWarning: divide by zero encountered in true_divide\n",
      "  particle_density = traj.top.n_atoms / traj.unitcell_volumes[0]\n",
      "/Users/rossg/miniconda2/lib/python2.7/site-packages/mdtraj/formats/pdb/pdbfile.py:196: UserWarning: Unlikely unit cell vectors detected in PDB file likely resulting from a dummy CRYST1 record. Discarding unit cell vectors.\n",
      "  warnings.warn('Unlikely unit cell vectors detected in PDB file likely '\n"
     ]
    }
   ],
   "source": [
    "# Loading an example trajectory:\n",
    "traj = md.load('10v_restarted_trajectory.dcd',top=\"10v_final.pdb\")"
   ]
  },
  {
   "cell_type": "markdown",
   "metadata": {},
   "source": [
    "## Total volume of atoms in a molecule\n",
    "Useful for calculating the packing efficiency of a nanoparticle."
   ]
  },
  {
   "cell_type": "code",
   "execution_count": 3,
   "metadata": {
    "collapsed": false
   },
   "outputs": [],
   "source": [
    "def ResidueVolume(traj,resname):\n",
    "    '''\n",
    "    Calculate the volume of the atomic constituents for residues in a trajectory.\n",
    "    \n",
    "    Parameters\n",
    "    ----------\n",
    "    traj  : mdtraj trajectory object\n",
    "      Trajectory containing the residue of interest\n",
    "    resname : string \n",
    "      the name of the residue\n",
    "\n",
    "    Returns\n",
    "    -------\n",
    "    residue_vol : float\n",
    "      the vdW volume of a single residue in nm^3\n",
    "    totoal_vol : float\n",
    "      the total volume of all matching residues in nm^3\n",
    "    \"\"\"\n",
    "    \n",
    "    \n",
    "    '''\n",
    "    residues = [res for res in traj.topology.residues if res.name==resname]\n",
    "    if len(residues) == 0:\n",
    "        print \"No residues called '%s' found in trajectory.\"\n",
    "        return\n",
    "    else:\n",
    "        numres = len(residues)\n",
    "        \n",
    "    atoms = [atm.element for atm in residues[0].atoms]\n",
    "    radii = np.zeros(len(atoms))\n",
    "    \n",
    "    for i in range(len(atoms)):\n",
    "        radii[i] = atoms[i].radius\n",
    "        #print atm.symbol, radii\n",
    "\n",
    "    residue_vol =  np.sum(np.pi*(4.0/3.0)*(radii**3))\n",
    "    total_vol = residue_vol*numres\n",
    "    \n",
    "    return residue_vol, total_vol  "
   ]
  },
  {
   "cell_type": "code",
   "execution_count": 4,
   "metadata": {
    "collapsed": false,
    "scrolled": false
   },
   "outputs": [
    {
     "name": "stdout",
     "output_type": "stream",
     "text": [
      "73.6743866001\n"
     ]
    }
   ],
   "source": [
    "# Example:\n",
    "trash, vol_dye = ResidueVolume(traj,'DYE')\n",
    "trash, vol_mol = ResidueVolume(traj,'10V')\n",
    "print vol_mol+vol_dye"
   ]
  },
  {
   "cell_type": "markdown",
   "metadata": {},
   "source": [
    "## Grid based calculation with spherical smoothing."
   ]
  },
  {
   "cell_type": "code",
   "execution_count": 58,
   "metadata": {
    "collapsed": false
   },
   "outputs": [],
   "source": [
    "def init_grid(xyz,spacing,padding) :\n",
    "    \"\"\"\n",
    "    Initialize a grid based on a list of x,y,z coordinates. Written by Sam Genheden.\n",
    "\n",
    "    Parameters\n",
    "    ----------\n",
    "    xyz  : Numpy array \n",
    "      Cartesian coordinates that should be covered by the grid\n",
    "    spacing : float \n",
    "      the grid spacing\n",
    "    padding : float \n",
    "      the space to add to minimum extent of the coordinates\n",
    "\n",
    "    Returns\n",
    "    -------\n",
    "    Numpy array\n",
    "      the grid \n",
    "    list of Numpy arrays\n",
    "      the edges of the grid\n",
    "    \"\"\"\n",
    "  \n",
    "    origin  = np.floor(xyz.min(axis=0))-padding\n",
    "    tr      = np.ceil(xyz.max(axis=0))+padding\n",
    "    length  = tr-origin\n",
    "    shape  =  np.array([int(l/spacing + 0.5) + 1 for l in length],dtype=int)\n",
    "    grid    = np.zeros(shape)\n",
    "    edges  = [np.linspace(origin[i],tr[i],shape[i]) for i in range(3)]\n",
    "    return grid,edges\n",
    "\n",
    "def _voxel(coord,edges) :\n",
    "    \"\"\"\n",
    "    Wrapper for the numpy digitize function to return the grid coordinates. Written by Sam Genheden.\n",
    "    \"\"\"\n",
    "    return np.array([np.digitize(coord,edges[i])[i] for i in range(3)],dtype=int)\n",
    "\n",
    "def _fill_sphere(coord,grid,edges,spacing,radius) :\n",
    "    \"\"\"\n",
    "    Fill a grid using spherical smoothing\n",
    "\n",
    "    Parameters\n",
    "    ----------\n",
    "    coord : Numpy array\n",
    "      the Cartesian coordinates to put on the grid\n",
    "    grid  : Numpy array\n",
    "      the 3D grid. Will be modified\n",
    "    edges : list of Numpy array\n",
    "      the edges of the grid\n",
    "    spacing : float \n",
    "      the grid spacing\n",
    "    radius  : float \n",
    "      the radius of the smoothing\n",
    "    \"\"\"\n",
    "    # Maximum coordinate\n",
    "    maxxyz = np.minimum(coord + radius,np.array([edges[0][-1],edges[1][-1],edges[2][-1]]))\n",
    "    i = 1\n",
    "    # Iterate over the sphere\n",
    "    rad2 = radius**2\n",
    "    x = max(coord[0] - radius,edges[0][0])\n",
    "    while x <= maxxyz[0] :\n",
    "        y = max(coord[1] - radius,edges[1][0])\n",
    "        while y <= maxxyz[1] :\n",
    "            z = max(coord[2] - radius,edges[2][0])\n",
    "            while z <= maxxyz[2] :\n",
    "            # Check if we are on the sphere\n",
    "                r2 = (x-coord[0])**2+(y-coord[1])**2+(z-coord[2])**2\n",
    "                if r2 <= rad2 :\n",
    "                # Increase grid with one\n",
    "                    v = _voxel(np.array([x,y,z]),edges)\n",
    "                    grid[v[0],v[1],v[2]] = grid[v[0],v[1],v[2]] + 1\n",
    "                z = z + spacing\n",
    "            y = y + spacing\n",
    "        x = x + spacing\n",
    "        #print x\n",
    "        \n",
    "    \n",
    "def calc_volume(xyz,extent=0.14,spacing=0.1,verbose=False) :\n",
    "    \"\"\"\n",
    "    Calculate the volume of a molecule using spherical smoothing\n",
    "\n",
    "    Parameters\n",
    "    ----------\n",
    "    xyz : Numpy array\n",
    "      the Cartesian coordinates to put on the grid\n",
    "    extent  : Numpy array\n",
    "      the radius applied to each atom\n",
    "    spacing : float \n",
    "      the grid spacing in nanometers\n",
    "      \n",
    "    Returns\n",
    "    -------\n",
    "    volume : float\n",
    "      the volume occupied by all atoms in a frame of a trajectory.\n",
    "    \"\"\"\n",
    "    if verbose == True: print(\"initializing grid\")\n",
    "    grid,edges = init_grid(xyz,spacing,0)\n",
    "    if verbose == True: print \"Grid shape =\",np.shape(grid)\n",
    "    \n",
    "    if verbose == True: print(\"Filling sphere\")\n",
    "    for coord in xyz :\n",
    "        _fill_sphere(coord,grid,edges,spacing,extent)\n",
    "    \n",
    "    if verbose == True: print(\"Calculating volume\")    \n",
    "    volume = np.sum(grid >= 1)*(spacing**3)\n",
    "    return volume\n",
    "\n",
    "def SolvAccVol(traj, residues, frame, solvent_rad=0.14, spacing=0.05) :\n",
    "    \"\"\"\n",
    "    Calculate the solvent accessible volume of a set of residues using spherical smoothing\n",
    "\n",
    "    Parameters\n",
    "    ----------\n",
    "    traj : Mdtraj trejectory object\n",
    "      the trajectory containing the residues of interest\n",
    "    residues  : list or tuple of strings\n",
    "      the names of the residues whose volume will be calculated\n",
    "    frame : integer\n",
    "      the frame from which the positions will be taken from\n",
    "    solvent_rad : float \n",
    "      the radius of the solvent in nm. Arithmetic mean with residue will be used for volume calculation.\n",
    "      If zero, only the vdW radii of the atoms will be used.\n",
    "    spacing : float \n",
    "      the grid spacing in nanometers  \n",
    "    \"\"\"\n",
    "    \n",
    "    atmids = [atom.index for atom in traj.topology.atoms if ((atom.residue.name in residues))]\n",
    "    radii = [atom.element.radius for atom in traj.topology.atoms if ((atom.residue.name in residues))]\n",
    "    if solvent_rad > 0.0:\n",
    "        watrads = np.repeat(solvent_rad,len(radii))\n",
    "        radii = 0.5*(radii + watrads)\n",
    "    \n",
    "    xyz = traj.xyz[frame]\n",
    "    xyz = xyz[atmids,:]\n",
    "    \n",
    "    grid,edges = init_grid(xyz,spacing,0)\n",
    "    \n",
    "    for i in range(len(atmids)):\n",
    "        _fill_sphere(xyz[i],grid,edges,spacing,radii[i])\n",
    "    \n",
    "    volume = np.sum(grid >= 1)*(spacing**3)\n",
    "    return volume"
   ]
  },
  {
   "cell_type": "code",
   "execution_count": 64,
   "metadata": {
    "collapsed": false,
    "scrolled": true
   },
   "outputs": [
    {
     "name": "stdout",
     "output_type": "stream",
     "text": [
      "Volume, accounting for different vdW     = 35.182375\n",
      "Volume, not accounting for different vdW = 35.457625\n"
     ]
    }
   ],
   "source": [
    "# Example:\n",
    "print \"Volume, accounting for different vdW     =\", SolvAccVol(traj,(\"10V\",\"DYE\"),frame=0,solvent_rad=0.14)\n",
    "\n",
    "# Using the old function, which didn't account for vdW radii:\n",
    "print \"Volume, not accounting for different vdW =\", calc_volume(traj.xyz[0],spacing=0.05,verbose=False)"
   ]
  },
  {
   "cell_type": "markdown",
   "metadata": {},
   "source": [
    "Accounting for different vdW radii doesn't have as large an effect as I expected. But as it takes the same time to compute _SolvAccVol_ is the preferred function to compute volume."
   ]
  },
  {
   "cell_type": "markdown",
   "metadata": {},
   "source": [
    "# Dependency of volume estimation on grid spacing"
   ]
  },
  {
   "cell_type": "code",
   "execution_count": 14,
   "metadata": {
    "collapsed": false
   },
   "outputs": [
    {
     "data": {
      "image/png": "[encoded data removed]",
      "text/plain": [
       "<matplotlib.figure.Figure at 0x110a14910>"
      ]
     },
     "metadata": {},
     "output_type": "display_data"
    }
   ],
   "source": [
    "space = np.linspace(start=0.15,stop=0.01,num=15)\n",
    "volume = np.zeros(15)\n",
    "\n",
    "for i in range(15):\n",
    "    volume[i] = calc_volume(traj.xyz[i],extent=0.14,spacing=space[i])\n",
    "\n",
    "plt.plot(space, volume)\n",
    "plt.xlabel('Grid spacing (nm)', size=16)\n",
    "plt.ylabel('Total volume (nm)^3', size=16)\n",
    "plt.show()   "
   ]
  },
  {
   "cell_type": "markdown",
   "metadata": {},
   "source": [
    "Estimated volume _is_ dependent on the grid spacing, with volume gradually increasing as spacing is decreased. Presumably the volume levels off as spacing --> 0. Erratic estimates for spacings above 0.08 nm (= 0.8 Angstroms).\n",
    "\n",
    "The difference between a spacing of 0.01 and 0.05 provides a lower bound for the error:"
   ]
  },
  {
   "cell_type": "code",
   "execution_count": 34,
   "metadata": {
    "collapsed": false
   },
   "outputs": [
    {
     "name": "stdout",
     "output_type": "stream",
     "text": [
      "    Error = 1.17 nm^3\n"
     ]
    }
   ],
   "source": [
    "print \"    Error = %.2f nm^3\" % np.abs(volume[10] - volume[14])"
   ]
  },
  {
   "cell_type": "markdown",
   "metadata": {},
   "source": [
    "Next, looking at how the volume of a nanoparticle changes as the simulation progresses. Choosing spacing=0.05. "
   ]
  },
  {
   "cell_type": "code",
   "execution_count": 35,
   "metadata": {
    "collapsed": false,
    "scrolled": true
   },
   "outputs": [
    {
     "data": {
      "image/png": "[encoded data removed]",
      "text/plain": [
       "<matplotlib.figure.Figure at 0x110f1f790>"
      ]
     },
     "metadata": {},
     "output_type": "display_data"
    }
   ],
   "source": [
    "solvent_rad = 0.14\n",
    "indices = range(0,traj.n_frames,5)\n",
    "volume = np.zeros(len(indices))\n",
    "for i in range(len(indices)):\n",
    "    volume[i] = calc_volume(traj.xyz[i],extent=solvent_rad,spacing=0.05)\n",
    "    \n",
    "plt.plot(indices, volume)\n",
    "plt.xlabel('Time [ps]', size=16)\n",
    "plt.ylabel('Total volume (nm)^3', size=16)\n",
    "plt.show()  "
   ]
  },
  {
   "cell_type": "markdown",
   "metadata": {},
   "source": [
    "Given that the error is roughly 1 nm^3, the volume is approximately constant over the trajectory."
   ]
  },
  {
   "cell_type": "markdown",
   "metadata": {},
   "source": [
    "## Monte carlo estimate of volume:\n",
    "\n",
    "Randomly sampling points within a cube defined by the limits of the nanoparticle. Volume estimate given in nanometers."
   ]
  },
  {
   "cell_type": "code",
   "execution_count": 36,
   "metadata": {
    "collapsed": false
   },
   "outputs": [],
   "source": [
    "def MonteCarloVolume(xyz,N,cutoff):\n",
    "    \"\"\"\n",
    "    Function to estimate the vdw volume of molecule using Monte Carlo sampling.\n",
    "\n",
    "    Parameters\n",
    "    ----------\n",
    "    xyz : Numpy array\n",
    "      the Cartesian coordinates of the molecule\n",
    "    N  : integer\n",
    "      the number of random uniform samples to take\n",
    "    cutoff : float\n",
    "      the vdw radius to use as a solvent cutoff\n",
    "\n",
    "    \"\"\"    \n",
    "    \n",
    "    high =xyz.max(axis=0)\n",
    "    low = xyz.min(axis=0)\n",
    "\n",
    "    cube_volume =  np.prod(high-low)\n",
    "\n",
    "    xsamps = np.random.uniform(low=low[0],high=high[0], size=N)\n",
    "    ysamps = np.random.uniform(low=low[1],high=high[1], size=N)\n",
    "    zsamps = np.random.uniform(low=low[2],high=high[2], size=N)\n",
    "    \n",
    "    samps = np.ones((N,3))\n",
    "    samps[:,0] = xsamps\n",
    "    samps[:,1] = ysamps\n",
    "    samps[:,2] = zsamps\n",
    "\n",
    "    dists = np.zeros(N)\n",
    "    sq_cutoff = cutoff**2\n",
    "    for i in range(N):\n",
    "        d = ((samps[i] - xyz)**2)\n",
    "        dists[i] = d.sum(axis=1).min()\n",
    "\n",
    "    return cube_volume*np.sum(dists < sq_cutoff)/N"
   ]
  },
  {
   "cell_type": "code",
   "execution_count": 50,
   "metadata": {
    "collapsed": false
   },
   "outputs": [
    {
     "name": "stdout",
     "output_type": "stream",
     "text": [
      "36.6651611402\n",
      "Completion time = 70 seconds for 500000 samples\n"
     ]
    }
   ],
   "source": [
    "# Example:\n",
    "N = 500000\n",
    "startTime = datetime.now()\n",
    "print MonteCarloVolume(traj.xyz[0],N,0.14)\n",
    "print \"Completion time = %s seconds for %i samples\" % ((datetime.now() - startTime).seconds,N)"
   ]
  },
  {
   "cell_type": "markdown",
   "metadata": {},
   "source": [
    "# How variable are the estimates for a fixed sample of points?\n",
    "Fixing the snapshot and number of random samples and performing a number of repeats:"
   ]
  },
  {
   "cell_type": "code",
   "execution_count": 55,
   "metadata": {
    "collapsed": false
   },
   "outputs": [
    {
     "name": "stdout",
     "output_type": "stream",
     "text": [
      "volumes = [ 37.86736139  36.31019886  35.07154686  36.27480881  35.92090823\n",
      "  34.85920651  34.68225623  34.96537668  36.45175909  35.60239772\n",
      "  36.52253921  38.15048185  36.16863864  35.85012812  36.87643978\n",
      "  37.47807076  37.15956024  35.21310709  35.92090823  35.99168835\n",
      "  36.73487955  37.08878013  36.52253921  36.02707841  35.88551818\n",
      "  37.26573041  37.26573041  36.06246846  38.25665202  35.56700766]\n",
      "Mean     = 35.43\n",
      "Std. Dev = 0.04\n"
     ]
    }
   ],
   "source": [
    "N=5000\n",
    "repeats = 30\n",
    "volumes = np.zeros(repeats)\n",
    "for i in range(repeats):\n",
    "    volumes[i] = MonteCarloVolume(traj.xyz[0],N,0.14)\n",
    "\n",
    "print \"volumes =\", volumes\n",
    "print \"Mean     = %.2f\"%np.mean(volume)\n",
    "print \"Std. Dev = %.2f\"%np.std(volume)"
   ]
  },
  {
   "cell_type": "markdown",
   "metadata": {},
   "source": [
    "The standard deviation serves as an estimate of the error.\n",
    "\n",
    "Taking the true mean to be 36.6 nm^3 as caculated with 500000 samples, the error can also be estimated thusly:"
   ]
  },
  {
   "cell_type": "code",
   "execution_count": 56,
   "metadata": {
    "collapsed": false
   },
   "outputs": [
    {
     "name": "stdout",
     "output_type": "stream",
     "text": [
      "Error = 0.94 nm^3\n"
     ]
    }
   ],
   "source": [
    "print \"Error = %.2f nm^3\"%np.mean((36.6-volumes)**2)"
   ]
  },
  {
   "cell_type": "code",
   "execution_count": null,
   "metadata": {
    "collapsed": true
   },
   "outputs": [],
   "source": [
    "Nums = np.array[10000,5000,4000,3000,1000,500]\n",
    "repeats = 10\n",
    "\n",
    "volumes = np.zeros(repeats)\n",
    "\n",
    "for i range(Nums):\n",
    "    for j in range(repeats)\n",
    "    \n",
    "\n"
   ]
  },
  {
   "cell_type": "code",
   "execution_count": 115,
   "metadata": {
    "collapsed": false,
    "scrolled": true
   },
   "outputs": [
    {
     "data": {
      "image/png": "[encoded data removed]",
      "text/plain": [
       "<matplotlib.figure.Figure at 0x1109819d0>"
      ]
     },
     "metadata": {},
     "output_type": "display_data"
    }
   ],
   "source": [
    "solvent_rad = 0.14\n",
    "NSamps = 5000\n",
    "indices = range(0,traj.n_frames,5)\n",
    "volume = np.zeros(len(indices))\n",
    "for i in range(len(indices)):\n",
    "    volume[i] = MonteCarloVolume(traj.xyz[i],NSamps,solvent_rad)\n",
    "    \n",
    "plt.plot(indices, volume)\n",
    "plt.xlabel('Time [ps]', size=16)\n",
    "plt.ylabel('Total volume (nm)^3', size=16)\n",
    "plt.show()    "
   ]
  },
  {
   "cell_type": "code",
   "execution_count": null,
   "metadata": {
    "collapsed": true
   },
   "outputs": [],
   "source": []
  },
  {
   "cell_type": "markdown",
   "metadata": {},
   "source": [
    "## Comparison of grid-based and Monte Carlo.\n",
    "\n",
    " - Running calc_volume with 0.5 Angstrom grid spacing and vdW radius of 1.4 Angstroms.\n",
    " - Running MonteCarloVolume with 141\\*101\\*161 = 2292801, the same number of grid points used in calc_volume."
   ]
  },
  {
   "cell_type": "code",
   "execution_count": 131,
   "metadata": {
    "collapsed": false
   },
   "outputs": [
    {
     "name": "stdout",
     "output_type": "stream",
     "text": [
      "initializing grid\n",
      "Filling sphere\n",
      "Calculating volume\n",
      "Grid shape = (141, 101, 161)\n",
      "\n",
      "calc_volume completion time = 5 seconds\n",
      "volume = 35.46 nm^3\n"
     ]
    }
   ],
   "source": [
    "startTime = datetime.now()\n",
    "\n",
    "volume = calc_volume(traj.xyz[0],extent=0.14,spacing=0.05)\n",
    "\n",
    "print \"\\ncalc_volume completion time = %s seconds\" % (datetime.now() - startTime).seconds\n",
    "print \"volume = %.2f nm^3\"%volume"
   ]
  },
  {
   "cell_type": "code",
   "execution_count": 134,
   "metadata": {
    "collapsed": false
   },
   "outputs": [
    {
     "name": "stdout",
     "output_type": "stream",
     "text": [
      "\n",
      "calc_volume completion time = 317 seconds\n",
      "volume = 36.49 nm^3\n"
     ]
    }
   ],
   "source": [
    "startTime = datetime.now()\n",
    "\n",
    "volume = MonteCarloVolume(traj.xyz[0],2292801,0.14)\n",
    "\n",
    "print \"\\ncalc_volume completion time = %s seconds\" % (datetime.now() - startTime).seconds\n",
    "print \"volume = %.2f nm^3\"%volume"
   ]
  },
  {
   "cell_type": "markdown",
   "metadata": {},
   "source": [
    "The grid based method calc_volume is much, much faster! Using it in subsequent analysis."
   ]
  },
  {
   "cell_type": "markdown",
   "metadata": {},
   "source": [
    "## Grid based part 2: with numpy's 3D histogram.\n",
    "No spherical smoothing yet, so histogram only marks atom locations and not the vdW extent of the atom."
   ]
  },
  {
   "cell_type": "code",
   "execution_count": 83,
   "metadata": {
    "collapsed": true
   },
   "outputs": [],
   "source": [
    "nbins = 500\n",
    "H, edges = np.histogramdd(traj.xyz[0],nbins,normed=False)\n"
   ]
  },
  {
   "cell_type": "code",
   "execution_count": 84,
   "metadata": {
    "collapsed": false
   },
   "outputs": [
    {
     "name": "stdout",
     "output_type": "stream",
     "text": [
      "4.24e-05\n"
     ]
    }
   ],
   "source": [
    "print  np.sum(H>=1)*1.0/(nbins**3)"
   ]
  },
  {
   "cell_type": "code",
   "execution_count": 82,
   "metadata": {
    "collapsed": false
   },
   "outputs": [
    {
     "name": "stdout",
     "output_type": "stream",
     "text": [
      "133.066608911\n"
     ]
    }
   ],
   "source": [
    "print np.sum(H>=1)*(edges[0][1]-edges[0][0])*(edges[1][1]-edges[1][0])*(edges[2][1]-edges[2][0])"
   ]
  },
  {
   "cell_type": "code",
   "execution_count": 88,
   "metadata": {
    "collapsed": false
   },
   "outputs": [
    {
     "data": {
      "text/plain": [
       "4.2401797836228259e-05"
      ]
     },
     "execution_count": 88,
     "metadata": {},
     "output_type": "execute_result"
    }
   ],
   "source": [
    "np.sum(H>=1)*1.0/np.sum(H==0)"
   ]
  },
  {
   "cell_type": "code",
   "execution_count": 67,
   "metadata": {
    "collapsed": false
   },
   "outputs": [
    {
     "data": {
      "text/plain": [
       "0.0014156025"
      ]
     },
     "execution_count": 67,
     "metadata": {},
     "output_type": "execute_result"
    }
   ],
   "source": [
    "(edges[0][1]-edges[0][0])*(edges[1][1]-edges[1][0])*(edges[2][1]-edges[2][0])"
   ]
  },
  {
   "cell_type": "code",
   "execution_count": 68,
   "metadata": {
    "collapsed": false
   },
   "outputs": [
    {
     "data": {
      "text/plain": [
       "0.11280946"
      ]
     },
     "execution_count": 68,
     "metadata": {},
     "output_type": "execute_result"
    }
   ],
   "source": [
    "(edges[0][1]-edges[0][0])"
   ]
  },
  {
   "cell_type": "code",
   "execution_count": 69,
   "metadata": {
    "collapsed": false
   },
   "outputs": [
    {
     "data": {
      "text/plain": [
       "0.093858838"
      ]
     },
     "execution_count": 69,
     "metadata": {},
     "output_type": "execute_result"
    }
   ],
   "source": [
    "(edges[1][1]-edges[1][0])"
   ]
  },
  {
   "cell_type": "code",
   "execution_count": 70,
   "metadata": {
    "collapsed": false
   },
   "outputs": [
    {
     "data": {
      "text/plain": [
       "0.13369668"
      ]
     },
     "execution_count": 70,
     "metadata": {},
     "output_type": "execute_result"
    }
   ],
   "source": [
    "(edges[2][1]-edges[2][0])"
   ]
  },
  {
   "cell_type": "code",
   "execution_count": 103,
   "metadata": {
    "collapsed": false
   },
   "outputs": [
    {
     "data": {
      "text/plain": [
       "[]"
      ]
     },
     "execution_count": 103,
     "metadata": {},
     "output_type": "execute_result"
    }
   ],
   "source": [
    "range(10,0,10)"
   ]
  },
  {
   "cell_type": "code",
   "execution_count": 105,
   "metadata": {
    "collapsed": false
   },
   "outputs": [
    {
     "data": {
      "text/plain": [
       "[0, 2, 4, 6, 8]"
      ]
     },
     "execution_count": 105,
     "metadata": {},
     "output_type": "execute_result"
    }
   ],
   "source": [
    "range(0,10,2)"
   ]
  },
  {
   "cell_type": "code",
   "execution_count": null,
   "metadata": {
    "collapsed": true
   },
   "outputs": [],
   "source": []
  }
 ],
 "metadata": {
  "kernelspec": {
   "display_name": "Python 2",
   "language": "python",
   "name": "python2"
  },
  "language_info": {
   "codemirror_mode": {
    "name": "ipython",
    "version": 2
   },
   "file_extension": ".py",
   "mimetype": "text/x-python",
   "name": "python",
   "nbconvert_exporter": "python",
   "pygments_lexer": "ipython2",
   "version": "2.7.11"
  }
 },
 "nbformat": 4,
 "nbformat_minor": 0
}
