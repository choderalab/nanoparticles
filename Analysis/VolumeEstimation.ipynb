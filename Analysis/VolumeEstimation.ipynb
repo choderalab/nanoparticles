{
 "cells": [
  {
   "cell_type": "markdown",
   "metadata": {},
   "source": [
    "# Volume estimation test"
   ]
  },
  {
   "cell_type": "code",
   "execution_count": 3,
   "metadata": {
    "collapsed": false
   },
   "outputs": [],
   "source": [
    "import warnings\n",
    "import mdtraj as md\n",
    "import numpy as np\n",
    "import matplotlib.pyplot as plt\n",
    "from IPython.display import Image\n",
    "warnings.filterwarnings('ignore', category=DeprecationWarning, message='.*use @default decorator instead.*')\n",
    "from mdtraj.geometry.sasa import _ATOMIC_RADII\n",
    "_ATOMIC_RADII['Cl'] = 0.16"
   ]
  },
  {
   "cell_type": "code",
   "execution_count": 4,
   "metadata": {
    "collapsed": false
   },
   "outputs": [
    {
     "name": "stderr",
     "output_type": "stream",
     "text": [
      "/Users/rossg/miniconda2/lib/python2.7/site-packages/mdtraj/formats/pdb/pdbfile.py:194: RuntimeWarning: divide by zero encountered in true_divide\n",
      "  particle_density = traj.top.n_atoms / traj.unitcell_volumes[0]\n",
      "/Users/rossg/miniconda2/lib/python2.7/site-packages/mdtraj/formats/pdb/pdbfile.py:196: UserWarning: Unlikely unit cell vectors detected in PDB file likely resulting from a dummy CRYST1 record. Discarding unit cell vectors.\n",
      "  warnings.warn('Unlikely unit cell vectors detected in PDB file likely '\n"
     ]
    }
   ],
   "source": [
    "traj = md.load('10v_restarted_trajectory.dcd',top=\"10v_final.pdb\")"
   ]
  },
  {
   "cell_type": "code",
   "execution_count": 5,
   "metadata": {
    "collapsed": false
   },
   "outputs": [],
   "source": [
    "def init_grid(xyz,spacing,padding) :\n",
    "    \"\"\"\n",
    "    Initialize a grid based on a list of x,y,z coordinates. Written by Sam Genheden.\n",
    "\n",
    "    Parameters\n",
    "    ----------\n",
    "    xyz  : Numpy array \n",
    "      Cartesian coordinates that should be covered by the grid\n",
    "    spacing : float \n",
    "      the grid spacing\n",
    "    padding : float \n",
    "      the space to add to minimum extent of the coordinates\n",
    "\n",
    "    Returns\n",
    "    -------\n",
    "    Numpy array\n",
    "      the grid \n",
    "    list of Numpy arrays\n",
    "      the edges of the grid\n",
    "    \"\"\"\n",
    "  \n",
    "    origin  = np.floor(xyz.min(axis=0))-padding\n",
    "    tr      = np.ceil(xyz.max(axis=0))+padding\n",
    "    length  = tr-origin\n",
    "    shape  =  np.array([int(l/spacing + 0.5) + 1 for l in length],dtype=int)\n",
    "    grid    = np.zeros(shape)\n",
    "    edges  = [np.linspace(origin[i],tr[i],shape[i]) for i in range(3)]\n",
    "    return grid,edges\n",
    "\n",
    "def _voxel(coord,edges) :\n",
    "    \"\"\"\n",
    "    Wrapper for the numpy digitize function to return the grid coordinates. Written by Sam Genheden.\n",
    "    \"\"\"\n",
    "    return np.array([np.digitize(coord,edges[i])[i] for i in range(3)],dtype=int)\n",
    "\n",
    "def _fill_sphere(coord,grid,edges,spacing,radius) :\n",
    "    \"\"\"\n",
    "    Fill a grid using spherical smoothing\n",
    "\n",
    "    Parameters\n",
    "    ----------\n",
    "    coord : Numpy array\n",
    "      the Cartesian coordinates to put on the grid\n",
    "    grid  : Numpy array\n",
    "      the 3D grid. Will be modified\n",
    "    edges : list of Numpy array\n",
    "      the edges of the grid\n",
    "    spacing : float \n",
    "      the grid spacing\n",
    "    radius  : float \n",
    "      the radius of the smoothing\n",
    "    \"\"\"\n",
    "    # Maximum coordinate\n",
    "    maxxyz = np.minimum(coord + radius,np.array([edges[0][-1],edges[1][-1],edges[2][-1]]))\n",
    "    i = 1\n",
    "    # Iterate over the sphere\n",
    "    rad2 = radius**2\n",
    "    x = max(coord[0] - radius,edges[0][0])\n",
    "    while x <= maxxyz[0] :\n",
    "        y = max(coord[1] - radius,edges[1][0])\n",
    "        while y <= maxxyz[1] :\n",
    "            z = max(coord[2] - radius,edges[2][0])\n",
    "            while z <= maxxyz[2] :\n",
    "            # Check if we are on the sphere\n",
    "                r2 = (x-coord[0])**2+(y-coord[1])**2+(z-coord[2])**2\n",
    "                if r2 <= rad2 :\n",
    "                # Increase grid with one\n",
    "                    v = _voxel(np.array([x,y,z]),edges)\n",
    "                    grid[v[0],v[1],v[2]] = grid[v[0],v[1],v[2]] + 1\n",
    "                z = z + spacing\n",
    "            y = y + spacing\n",
    "        x = x + spacing\n",
    "        #print x\n",
    "        \n",
    "    \n",
    "def calc_volume(xyz,extent=1.0,spacing=0.5) :\n",
    "    \n",
    "    print(\"initializing grid\")\n",
    "    grid,edges = init_grid(xyz,spacing,0)\n",
    "    \n",
    "    print(\"Filling sphere\")\n",
    "    for coord in xyz :\n",
    "        _fill_sphere(coord,grid,edges,spacing,extent)\n",
    "    print(\"Calculating volume\")    \n",
    "    volume = np.sum(grid >= 1)*(spacing**3)\n",
    "    \n",
    "    return edges, grid, volume"
   ]
  },
  {
   "cell_type": "code",
   "execution_count": 174,
   "metadata": {
    "collapsed": false
   },
   "outputs": [
    {
     "name": "stdout",
     "output_type": "stream",
     "text": [
      "initializing grid\n",
      "Filling sphere\n",
      "Calculating volume\n",
      "129.125\n"
     ]
    }
   ],
   "source": [
    "edges, grid, volume = calc_volume(traj.xyz[0],extent=0.5,spacing=0.5)\n",
    "print volume"
   ]
  },
  {
   "cell_type": "code",
   "execution_count": 122,
   "metadata": {
    "collapsed": false
   },
   "outputs": [
    {
     "name": "stdout",
     "output_type": "stream",
     "text": [
      "2805\n"
     ]
    }
   ],
   "source": [
    "counts = np.zeros(len(edges[0])*len(edges[1])*len(edges[2]))\n",
    "print len(edges[0])*len(edges[1])*len(edges[2])"
   ]
  },
  {
   "cell_type": "code",
   "execution_count": 166,
   "metadata": {
    "collapsed": false
   },
   "outputs": [
    {
     "name": "stdout",
     "output_type": "stream",
     "text": [
      "458.0\n"
     ]
    }
   ],
   "source": [
    "xyz = traj.xyz[0]\n",
    "\n",
    "grid,edges = init_grid(xyz,spacing=0.2,padding=0)\n",
    "            \n",
    "counts = np.zeros(len(edges[0])*len(edges[1])*len(edges[2]))\n",
    "xyz = traj.xyz[0]\n",
    "c = 1\n",
    "for i in range(len(edges[0])-1):\n",
    "    for j in range(len(edges[1])-1):\n",
    "        for k in range(len(edges[2])-1):\n",
    "            minarr = np.array((edges[0][i],edges[1][j],edges[2][k]))\n",
    "            maxarr = np.array((edges[0][i+1],edges[1][j+1],edges[2][k+1]))\n",
    "            counts[c] = np.sum(np.prod(xyz < maxarr,axis=1)*np.prod(xyz > minarr,axis=1))\n",
    "            c += 1\n",
    "if counts.sum() != traj.n_atoms: print(\"Some atoms not accounted for\")\n",
    "vol = (counts >=1).sum()*(spacing**3)  \n",
    "\n",
    "print vol"
   ]
  },
  {
   "cell_type": "code",
   "execution_count": 167,
   "metadata": {
    "collapsed": false
   },
   "outputs": [
    {
     "data": {
      "text/plain": [
       "5300.0"
      ]
     },
     "execution_count": 167,
     "metadata": {},
     "output_type": "execute_result"
    }
   ],
   "source": [
    "counts.sum()"
   ]
  },
  {
   "cell_type": "code",
   "execution_count": 168,
   "metadata": {
    "collapsed": false
   },
   "outputs": [
    {
     "data": {
      "text/plain": [
       "5300"
      ]
     },
     "execution_count": 168,
     "metadata": {},
     "output_type": "execute_result"
    }
   ],
   "source": [
    "np.sum(np.prod(xyz < maxarr,axis=1))"
   ]
  },
  {
   "cell_type": "code",
   "execution_count": 171,
   "metadata": {
    "collapsed": false
   },
   "outputs": [
    {
     "data": {
      "text/plain": [
       "0"
      ]
     },
     "execution_count": 171,
     "metadata": {},
     "output_type": "execute_result"
    }
   ],
   "source": [
    "np.sum(np.prod(xyz > minarr,axis=1))"
   ]
  },
  {
   "cell_type": "code",
   "execution_count": 172,
   "metadata": {
    "collapsed": false
   },
   "outputs": [
    {
     "data": {
      "text/plain": [
       "0"
      ]
     },
     "execution_count": 172,
     "metadata": {},
     "output_type": "execute_result"
    }
   ],
   "source": [
    "np.sum(np.prod(xyz < maxarr,axis=1)*np.prod(xyz > minarr,axis=1))"
   ]
  },
  {
   "cell_type": "markdown",
   "metadata": {},
   "source": [
    "## Monte carlo estimate of volume:"
   ]
  },
  {
   "cell_type": "code",
   "execution_count": 176,
   "metadata": {
    "collapsed": false
   },
   "outputs": [
    {
     "data": {
      "text/plain": [
       "array([ 0.44365883,  0.93034467])"
      ]
     },
     "execution_count": 176,
     "metadata": {},
     "output_type": "execute_result"
    }
   ],
   "source": [
    "np.random.uniform(low=0.0, high=1.0, size=1)"
   ]
  },
  {
   "cell_type": "code",
   "execution_count": 22,
   "metadata": {
    "collapsed": false
   },
   "outputs": [],
   "source": [
    "def MonteCarloVolume(xyz,N,cutoff):\n",
    "    high =xyz.max(axis=0)\n",
    "    low = xyz.min(axis=0)\n",
    "\n",
    "    xsamps = np.random.uniform(low=low[0],high=high[0], size=N)\n",
    "    ysamps = np.random.uniform(low=low[1],high=high[1], size=N)\n",
    "    zsamps = np.random.uniform(low=low[2],high=high[2], size=N)\n",
    "    \n",
    "    samps = np.ones((N,3))\n",
    "    samps[:,0] = xsamps\n",
    "    samps[:,1] = ysamps\n",
    "    samps[:,2] = zsamps\n",
    "\n",
    "    dists = np.zeros(N)\n",
    "    for i in range(N):\n",
    "        dists[i] = ((samps[i] - xyz)**2).min()\n",
    "    #print dists\n",
    "    return np.sum(dists < cutoff**(0.5))/N"
   ]
  },
  {
   "cell_type": "code",
   "execution_count": 26,
   "metadata": {
    "collapsed": false
   },
   "outputs": [
    {
     "data": {
      "text/plain": [
       "1"
      ]
     },
     "execution_count": 26,
     "metadata": {},
     "output_type": "execute_result"
    }
   ],
   "source": [
    "MonteCarloVolume(traj.xyz[0],1000000,0.001)"
   ]
  },
  {
   "cell_type": "code",
   "execution_count": 13,
   "metadata": {
    "collapsed": true
   },
   "outputs": [],
   "source": [
    "xyz = traj[0].xyz"
   ]
  },
  {
   "cell_type": "code",
   "execution_count": 14,
   "metadata": {
    "collapsed": false
   },
   "outputs": [
    {
     "data": {
      "text/plain": [
       "array([[ 2.8917377 ,  4.20494604,  2.93749046],\n",
       "       [ 3.04198384,  4.04332161,  2.92347884],\n",
       "       [ 2.9590981 ,  4.09657288,  3.12257862],\n",
       "       ..., \n",
       "       [ 1.91835046,  1.0110172 ,  2.74777079],\n",
       "       [ 2.10053682,  1.02576149,  2.62501955],\n",
       "       [ 2.12009239,  0.91884911,  2.62675333]], dtype=float32)"
      ]
     },
     "execution_count": 14,
     "metadata": {},
     "output_type": "execute_result"
    }
   ],
   "source": [
    "xyz.min(axis=0)"
   ]
  },
  {
   "cell_type": "code",
   "execution_count": null,
   "metadata": {
    "collapsed": true
   },
   "outputs": [],
   "source": []
  }
 ],
 "metadata": {
  "kernelspec": {
   "display_name": "Python 2",
   "language": "python",
   "name": "python2"
  },
  "language_info": {
   "codemirror_mode": {
    "name": "ipython",
    "version": 2
   },
   "file_extension": ".py",
   "mimetype": "text/x-python",
   "name": "python",
   "nbconvert_exporter": "python",
   "pygments_lexer": "ipython2",
   "version": "2.7.11"
  }
 },
 "nbformat": 4,
 "nbformat_minor": 0
}
