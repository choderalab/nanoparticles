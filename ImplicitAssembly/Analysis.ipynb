{
 "cells": [
  {
   "cell_type": "markdown",
   "metadata": {},
   "source": [
    "## Discrimantory analysis of nanoparticles in implicit solvent "
   ]
  },
  {
   "cell_type": "code",
   "execution_count": 2,
   "metadata": {
    "collapsed": true
   },
   "outputs": [],
   "source": [
    "import sys\n",
    "import warnings\n",
    "warnings.filterwarnings('ignore', category=DeprecationWarning, message='.*use @default decorator instead.*')\n",
    "import numpy as np\n",
    "import mdtraj as md\n",
    "import matplotlib.pyplot as plt\n",
    "from IPython.display import Image\n",
    "import time\n",
    "#%matplotlib inline"
   ]
  },
  {
   "cell_type": "markdown",
   "metadata": {},
   "source": [
    "Loading specially designed analysis tools"
   ]
  },
  {
   "cell_type": "code",
   "execution_count": 3,
   "metadata": {
    "collapsed": false
   },
   "outputs": [],
   "source": [
    "sys.path.append(\"../Analysis\")\n",
    "from AnalysisTools import *"
   ]
  },
  {
   "cell_type": "markdown",
   "metadata": {},
   "source": [
    "Computing the average sphericity, packing fraction, morphability, and compressability of each nanoparticle."
   ]
  },
  {
   "cell_type": "code",
   "execution_count": 19,
   "metadata": {
    "collapsed": true
   },
   "outputs": [],
   "source": [
    "ligs = ['1e','2m','3t','4r','5s','6s','7t','8t','9t','10v']"
   ]
  },
  {
   "cell_type": "code",
   "execution_count": null,
   "metadata": {
    "collapsed": false
   },
   "outputs": [],
   "source": [
    "descriptors = []\n",
    "t = time.time()\n",
    "for l in ligs:\n",
    "    traj = md.load(l+'/trajectory.dcd',top=l+\"/snapshots.pdb\")\n",
    "    c, av_vol,vol = compressibilty(traj,('LIG','DYE'),skip=600)\n",
    "    m, av_sasa = morphability(traj,('LIG','DYE'),skip=600)\n",
    "    phi = sphericity(av_vol,av_sasa)\n",
    "    trash, vol_dye = ResidueVolume(traj,'DYE')\n",
    "    trash, vol_mol = ResidueVolume(traj,'LIG')\n",
    "    pe = (vol_mol+vol_dye)/av_vol    # Packing efficiency\n",
    "    descriptors.append([c,m,phi,pe])\n",
    "t = time.time() - t\n",
    "print \"It look {0} seconds to process {1} simulations\".format(t,len(ligs))"
   ]
  },
  {
   "cell_type": "markdown",
   "metadata": {},
   "source": [
    "Standardizing the descriptors"
   ]
  },
  {
   "cell_type": "code",
   "execution_count": null,
   "metadata": {
    "collapsed": true
   },
   "outputs": [],
   "source": [
    "def standardise(A):\n",
    "    return(A - np.mean(A, axis=0)) / np.std(A, axis=0)\n",
    "\n",
    "des = np.array(descriptors)\n",
    "des = standardise(descriptors)"
   ]
  },
  {
   "cell_type": "markdown",
   "metadata": {},
   "source": [
    "As extracting the descriptors takes around 2 hours, below is the save result:"
   ]
  },
  {
   "cell_type": "code",
   "execution_count": 4,
   "metadata": {
    "collapsed": true
   },
   "outputs": [],
   "source": [
    "des= np.array([[ 0.18263378, -0.33637152,  0.04829871, -0.40323382],\n",
    "       [-0.92273344, -1.2758494 ,  1.27691654, -0.20621727],\n",
    "       [ 0.33496161,  1.01195691,  0.77665493,  0.62534314],\n",
    "       [ 1.221911  ,  0.98075983, -1.59226289, -2.56355541],\n",
    "       [-1.63870599, -1.28957176, -0.10826687,  0.20862868],\n",
    "       [-0.93046896, -0.41861486,  1.87472984,  0.85278088],\n",
    "       [-0.38798065,  1.60757083, -0.31622351,  1.28498054],\n",
    "       [ 1.46922317,  0.53137365, -0.20739172, -0.09577617],\n",
    "       [-0.50835127,  0.38151164, -0.98523618,  0.57088601],\n",
    "       [ 1.17951074, -1.19276532, -0.76721885, -0.27383658]])"
   ]
  },
  {
   "cell_type": "markdown",
   "metadata": {},
   "source": [
    "# Cluster analysis\n",
    "_Question_: is it possible to distinguish nanoparticle forming molecules an unsupervised way?"
   ]
  },
  {
   "cell_type": "code",
   "execution_count": 96,
   "metadata": {
    "collapsed": true
   },
   "outputs": [],
   "source": [
    "true_nanos =  ['3t','4r','6s','9t','10v']\n",
    "false_nanos = ['1e','2m','5s','7t','8t']\n",
    "\n",
    "# Creating an array to fit to when doing supervised learning.\n",
    "Y = np.ones(10)\n",
    "for i in range(len(ligs)):\n",
    "    if ligs[i] in true_nanos:\n",
    "        Y[i] = True\n",
    "    else:\n",
    "        Y[i] = False"
   ]
  },
  {
   "cell_type": "markdown",
   "metadata": {},
   "source": [
    "## K-means"
   ]
  },
  {
   "cell_type": "code",
   "execution_count": null,
   "metadata": {
    "collapsed": true
   },
   "outputs": [],
   "source": [
    "from sklearn.cluster import KMeans"
   ]
  },
  {
   "cell_type": "markdown",
   "metadata": {},
   "source": [
    "**kmeans** with k=2"
   ]
  },
  {
   "cell_type": "code",
   "execution_count": 84,
   "metadata": {
    "collapsed": false
   },
   "outputs": [
    {
     "name": "stdout",
     "output_type": "stream",
     "text": [
      "First group: ['2m', '5s', '6s']\n",
      "Second group: ['1e', '3t', '4r', '7t', '8t', '9t', '10v']\n"
     ]
    }
   ],
   "source": [
    "kclusts = KMeans(n_clusters=2,n_init=100)\n",
    "clusts = kclusts.fit_predict(des)\n",
    "\n",
    "print 'First group:', [ligs[ind] for ind in np.where(clusts==0)[0]]\n",
    "print 'Second group:',[ligs[ind] for ind in np.where(clusts==1)[0]]"
   ]
  },
  {
   "cell_type": "markdown",
   "metadata": {},
   "source": [
    "While 5s and 6s don't form nanopartciles, the false positive rate is far too high for more conclusive results."
   ]
  },
  {
   "cell_type": "markdown",
   "metadata": {},
   "source": [
    "**kmeans** with k=3"
   ]
  },
  {
   "cell_type": "code",
   "execution_count": 87,
   "metadata": {
    "collapsed": false
   },
   "outputs": [
    {
     "name": "stdout",
     "output_type": "stream",
     "text": [
      "First group: ['2m', '5s', '6s']\n",
      "Second group: ['1e', '3t', '7t', '8t', '9t', '10v']\n",
      "Third group: ['4r']\n"
     ]
    }
   ],
   "source": [
    "kclusts = KMeans(n_clusters=3,n_init=150)\n",
    "clusts = kclusts.fit_predict(des)\n",
    "\n",
    "print 'First group:', [ligs[ind] for ind in np.where(clusts==0)[0]]\n",
    "print 'Second group:',[ligs[ind] for ind in np.where(clusts==1)[0]]\n",
    "print 'Third group:',[ligs[ind] for ind in np.where(clusts==2)[0]]"
   ]
  },
  {
   "cell_type": "markdown",
   "metadata": {},
   "source": [
    "Inconclusive results"
   ]
  },
  {
   "cell_type": "markdown",
   "metadata": {},
   "source": [
    "## Hierarchical clustering"
   ]
  },
  {
   "cell_type": "code",
   "execution_count": 89,
   "metadata": {
    "collapsed": false
   },
   "outputs": [],
   "source": [
    "from sklearn.cluster import AgglomerativeClustering"
   ]
  },
  {
   "cell_type": "code",
   "execution_count": 91,
   "metadata": {
    "collapsed": false
   },
   "outputs": [
    {
     "name": "stdout",
     "output_type": "stream",
     "text": [
      "First group: ['1e', '3t', '4r', '7t', '8t', '9t', '10v']\n",
      "Second group: ['2m', '5s', '6s']\n"
     ]
    }
   ],
   "source": [
    "hclusts = AgglomerativeClustering(n_clusters=2,linkage='ward')\n",
    "clusts = hclusts.fit_predict(des)\n",
    "\n",
    "print 'First group:', [ligs[ind] for ind in np.where(clusts==0)[0]]\n",
    "print 'Second group:',[ligs[ind] for ind in np.where(clusts==1)[0]]"
   ]
  },
  {
   "cell_type": "markdown",
   "metadata": {},
   "source": [
    "Consistent with K means with 2 clusters."
   ]
  },
  {
   "cell_type": "markdown",
   "metadata": {},
   "source": [
    "# Supervised learning"
   ]
  },
  {
   "cell_type": "markdown",
   "metadata": {},
   "source": [
    "There are only 10 samples with 4 descriptors, making any significant predictive models very difficult. There will be a focus on trying to find the parameters (if any) that most distinguish nanoparticles from not."
   ]
  },
  {
   "cell_type": "markdown",
   "metadata": {},
   "source": [
    "## Random Forests"
   ]
  },
  {
   "cell_type": "code",
   "execution_count": 92,
   "metadata": {
    "collapsed": true
   },
   "outputs": [],
   "source": [
    "from sklearn.ensemble import RandomForestClassifier"
   ]
  },
  {
   "cell_type": "code",
   "execution_count": 191,
   "metadata": {
    "collapsed": false
   },
   "outputs": [
    {
     "name": "stdout",
     "output_type": "stream",
     "text": [
      "Fraction correctionly predicted = 1.0\n"
     ]
    }
   ],
   "source": [
    "rforests = RandomForestClassifier(n_estimators=500,oob_score=True)\n",
    "rforests.fit(X=des,y=Y)\n",
    "print 'Fraction correctionly predicted = {0}'.format(rforests.score(des,Y))"
   ]
  },
  {
   "cell_type": "markdown",
   "metadata": {},
   "source": [
    "The model is clearly overfit, but the RF contains important information on what descriprtors are important, and how distinctly the particles fall into the two catagories."
   ]
  },
  {
   "cell_type": "code",
   "execution_count": 192,
   "metadata": {
    "collapsed": true
   },
   "outputs": [],
   "source": [
    "# Nice colours, taken on 26th Nov 2015 from:\n",
    "#http://tableaufriction.blogspot.co.uk/2012/11/finally-you-can-use-tableau-data-colors.html\n",
    "\n",
    "# These are the \"Tableau\" colors as RGB. I've chosen my faves. \n",
    "# In order: blue, green, purple, orange. Hopefully a good compromise for colour-blind people.\n",
    "tableau4 = [(31, 119, 180),(44, 160, 44),(148,103,189),(255, 127, 14)]\n",
    "tableau4_light = [(174,199,232),(152,223,138),(197,176,213),(255,187,120)]\n",
    "\n",
    "# Scale the RGB values to the [0, 1] range, which is the format matplotlib accepts. \n",
    "for i in range(len(tableau4)):    \n",
    "    r, g, b = tableau4[i]    \n",
    "    tableau4[i] = (r / 255., g / 255., b / 255.)\n",
    "    r, g, b = tableau4_light[i]    \n",
    "    tableau4_light[i] = (r / 255., g / 255., b / 255.)"
   ]
  },
  {
   "cell_type": "code",
   "execution_count": 199,
   "metadata": {
    "collapsed": false
   },
   "outputs": [
    {
     "data": {
      "image/png": "[encoded data removed]",
      "text/plain": [
       "<IPython.core.display.Image object>"
      ]
     },
     "execution_count": 199,
     "metadata": {},
     "output_type": "execute_result"
    }
   ],
   "source": [
    "fig, ax = plt.subplots()\n",
    "rects = ax.bar(np.arange(4),rforests.feature_importances_,width=0.5, color=tableau4_light[1])\n",
    "ax.set_ylabel('Importance')\n",
    "ax.set_title('Ability of descriptors to distinguish nanoparticles in an RF')\n",
    "ax.set_xticks(np.arange(4)+0.25)\n",
    "ax.set_xticklabels(['compressability','morphability','sphericity','Packing fraction'],rotation=0)\n",
    "\n",
    "plt.savefig('DescriptorImportance.png',format='png')\n",
    "Image('DescriptorImportance.png')"
   ]
  },
  {
   "cell_type": "markdown",
   "metadata": {},
   "source": [
    "Looking at compounds that appear most nanoparticle-like most nanoparticle like in the out-of-the-bag estimates of the random forest."
   ]
  },
  {
   "cell_type": "code",
   "execution_count": 255,
   "metadata": {
    "collapsed": false
   },
   "outputs": [
    {
     "name": "stdout",
     "output_type": "stream",
     "text": [
      "4r correctly predicted to be nanoparticle\n",
      "5s correctly predicted to NOT form nanoparticle\n",
      "9t correctly predicted to be nanoparticle\n"
     ]
    }
   ],
   "source": [
    "#scores = rforests.predict_proba(des)[:,1] # If using in full model predictions\n",
    "scores = rforests.oob_decision_function_[:,1] # If using in out of the bag samples\n",
    "comb = zip(ligs,scores)\n",
    "\n",
    "for l,s in zip(ligs,scores):\n",
    "    if l in true_nanos and s > 0.5:\n",
    "        print l,'correctly predicted to be nanoparticle'\n",
    "    if l not in true_nanos and s < 0.5:\n",
    "        print l,'correctly predicted to NOT form nanoparticle'"
   ]
  },
  {
   "cell_type": "code",
   "execution_count": null,
   "metadata": {
    "collapsed": true
   },
   "outputs": [],
   "source": [
    ""
   ]
  }
 ],
 "metadata": {
  "kernelspec": {
   "display_name": "Python 2",
   "language": "python",
   "name": "python2"
  },
  "language_info": {
   "codemirror_mode": {
    "name": "ipython",
    "version": 2.0
   },
   "file_extension": ".py",
   "mimetype": "text/x-python",
   "name": "python",
   "nbconvert_exporter": "python",
   "pygments_lexer": "ipython2",
   "version": "2.7.11"
  }
 },
 "nbformat": 4,
 "nbformat_minor": 0
}