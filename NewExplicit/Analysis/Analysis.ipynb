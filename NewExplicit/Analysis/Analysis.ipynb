{
 "cells": [
  {
   "cell_type": "code",
   "execution_count": 1,
   "metadata": {
    "collapsed": false
   },
   "outputs": [],
   "source": [
    "import numpy as np\n",
    "import matplotlib.pyplot as plt\n",
    "from IPython.display import Image\n",
    "from time import time\n",
    "import sys\n",
    "sys.path.append('/Users/rossg/Work/nanoparticles/Analysis')\n",
    "from AnalysisTools import *\n",
    "import mdtraj as md\n",
    "warnings.filterwarnings('ignore', category=DeprecationWarning, message='.*use @default decorator instead.*')\n",
    "from mdtraj.geometry.sasa import _ATOMIC_RADII\n",
    "# Below are taken from Bondi 1964, whereas the MdTraj defaults are taken from Gromacs radii.\n",
    "_ATOMIC_RADII['Cl'] = 0.175\n",
    "_ATOMIC_RADII['Br'] = 0.187\n",
    "_ATOMIC_RADII['I'] = 0.204"
   ]
  },
  {
   "cell_type": "code",
   "execution_count": 40,
   "metadata": {
    "collapsed": false
   },
   "outputs": [],
   "source": [
    "# Nice colours, taken on 26th Nov 2015 from:\n",
    "#http://tableaufriction.blogspot.co.uk/2012/11/finally-you-can-use-tableau-data-colors.html\n",
    "\n",
    "# These are the \"Tableau\" colors as RGB. I've chosen my faves. \n",
    "# In order: blue, green, purple, orange, yellow. Hopefully a good compromise for colour-blind people.\n",
    "tableau4 = [(31, 119, 180),(44, 160, 44),(148,103,189),(255, 127, 14),(188,189,34)]\n",
    "tableau4_light = [(174,199,232),(152,223,138),(197,176,213),(255,187,120)]\n",
    "\n",
    "# Scale the RGB values to the [0, 1] range, which is the format matplotlib accepts. \n",
    "for i in range(len(tableau4)):    \n",
    "    r, g, b = tableau4[i]    \n",
    "    tableau4[i] = (r / 255., g / 255., b / 255.)\n",
    "    \n",
    "for i in range(len(tableau4_light)):    \n",
    "    r, g, b = tableau4_light[i]    \n",
    "    tableau4_light[i] = (r / 255., g / 255., b / 255.)  "
   ]
  },
  {
   "cell_type": "markdown",
   "metadata": {},
   "source": [
    "# Surface area of all molecules\n",
    "Nanoparticle formed in implicit solvent, then solvated in explicit solvent. \n",
    "* Number of drug molecules = 50\n",
    "* Number of dye molecules = 20\n",
    "* water model = TIP3P\n",
    "* Box dimensions set so that water was at least 10 Angs from edge of nanoparticle"
   ]
  },
  {
   "cell_type": "code",
   "execution_count": 3,
   "metadata": {
    "collapsed": true
   },
   "outputs": [],
   "source": [
    "true_nanos =  ['3t','4r','6s','9t','10v']\n",
    "false_nanos = ['1e','2m','5s','7t','8t']\n",
    "nanos = true_nanos + false_nanos\n",
    "mols = ['LIG','DYE']"
   ]
  },
  {
   "cell_type": "code",
   "execution_count": 4,
   "metadata": {
    "collapsed": false
   },
   "outputs": [],
   "source": [
    "for lig in nanos:\n",
    "    # Load trajectory\n",
    "    folder = '/Users/rossg/Work/nanoparticles/NewExplicit/Production/' + lig + '/'\n",
    "    traj  = md.load(folder+'traj_centered.dcd',top=folder+'equil.pdb')\n",
    "    \n",
    "    # Find the atom ids of the drug and dye\n",
    "    atmids = [atms.index for atms in traj.topology.atoms if atms.residue.name in mols]\n",
    "    traj_slice = traj.atom_slice(atmids,inplace=True)\n",
    "    \n",
    "    # Calculate the solvent accessible surface area\n",
    "    sasa = md.shrake_rupley(traj_slice,mode = \"residue\")\n",
    "    total_sasa = sasa.sum(axis=1)\n",
    "    \n",
    "    # Plot and save\n",
    "    time = (np.arange(len(total_sasa))+1)*100000*0.002/1000     # Time in nanoseconds: 'nsteps_per_frame*time_step(ps)/num_ps_in_ns\n",
    "    plt.clf()\n",
    "    plt.plot(time,total_sasa,color='k',linewidth=3)\n",
    "    plt.xlabel('Time (ns)',size=16)\n",
    "    plt.ylabel('Total SASA (nm)^2', size=16)\n",
    "    if lig in true_nanos:\n",
    "        plt.savefig('SASA_true_' + lig + '.png', format='png')\n",
    "    else:\n",
    "        plt.savefig('SASA_false_' + lig + '.png', format='png')"
   ]
  },
  {
   "cell_type": "markdown",
   "metadata": {
    "collapsed": true
   },
   "source": [
    "# Internal distribution of molecules"
   ]
  },
  {
   "cell_type": "code",
   "execution_count": 12,
   "metadata": {
    "collapsed": true
   },
   "outputs": [],
   "source": [
    "true_nanos =  ['3t','4r','6s','9t','10v']\n",
    "false_nanos = ['1e','2m','5s','7t','8t']\n",
    "nanos = true_nanos + false_nanos\n",
    "mols = ['LIG','DYE']"
   ]
  },
  {
   "cell_type": "code",
   "execution_count": 4,
   "metadata": {
    "collapsed": false
   },
   "outputs": [],
   "source": [
    "mols = ['LIG','DYE']\n",
    "for lig in nanos:\n",
    "    # Load trajectory\n",
    "    folder = '/Users/rossg/Work/nanoparticles/NewExplicit/Production/' + lig + '/'\n",
    "    traj  = md.load(folder+'traj_centered.dcd',top=folder+'equil.pdb')\n",
    "    \n",
    "    # Find the atom ids of the drug and dye\n",
    "    nanoids = [atms.index for atms in traj.topology.atoms if atms.residue.name in mols]\n",
    "    dyeids = [atms.index for atms in traj.topology.atoms if atms.residue.name == 'DYE']\n",
    "    ligids = [atms.index for atms in traj.topology.atoms if atms.residue.name == 'LIG']\n",
    "    \n",
    "    # Calculate the distance from center of all drug and dye atoms\n",
    "    frame = 0\n",
    "    center = traj.xyz[frame][nanoids,:].mean(axis=0)\n",
    "    dist_dye = []\n",
    "    dist_lig = []\n",
    "    for frame in range(traj.n_frames):\n",
    "        for ind in dyeids:\n",
    "            dist_dye.append(((center - traj.xyz[frame][ind,:])**2).sum()) \n",
    "        for ind in ligids:\n",
    "            dist_lig.append(((center - traj.xyz[frame][ind,:])**2).sum())  \n",
    "            \n",
    "    # Create the histogram\n",
    "    edges = np.arange(0,18,2)\n",
    "    midpoints = edges[0:len(edges)-1] + np.diff(edges)/2\n",
    "    # Normalize counts\n",
    "    cnts_dye,bins = np.histogram(dist_dye,edges)\n",
    "    cnts_dye = 1.0*cnts_dye/np.sum(cnts_dye)\n",
    "    cnts_lig,bins = np.histogram(dist_lig,edges)\n",
    "    cnts_lig = 1.0*cnts_lig/np.sum(cnts_lig)\n",
    "    \n",
    "    # Plot\n",
    "    plt.clf()\n",
    "    plt.bar(midpoints+0.23,cnts_dye,color=tableau4[0])\n",
    "    plt.bar(midpoints-0.77,cnts_lig,color=tableau4[-1])\n",
    "    plt.xlim((0,16))\n",
    "    plt.ylabel('Probability')\n",
    "    plt.xlabel('Distance from center (Angs.)')\n",
    "    plt.title('Radial distribution of molecules in nanoparticle of valrubicin')\n",
    "    plt.legend(('Dye','Drug'),loc='upper right')\n",
    "    if lig in true_nanos:\n",
    "        plt.savefig('RadialProfile_true_' + lig + '.png',format='png')\n",
    "    else:\n",
    "        plt.savefig('RadialProfile_false_' + lig + '.png',format='png')"
   ]
  },
  {
   "cell_type": "markdown",
   "metadata": {},
   "source": [
    "# Descriptor analysis"
   ]
  },
  {
   "cell_type": "code",
   "execution_count": 20,
   "metadata": {
    "collapsed": true
   },
   "outputs": [],
   "source": [
    "sys.path.append(\"/Users/rossg/Work/nanoparticles/Analysis\")\n",
    "from AnalysisTools import *\n",
    "from time import time"
   ]
  },
  {
   "cell_type": "code",
   "execution_count": 21,
   "metadata": {
    "collapsed": false
   },
   "outputs": [
    {
     "name": "stdout",
     "output_type": "stream",
     "text": [
      "It look 7292.19758701 seconds to process 10 simulations\n"
     ]
    }
   ],
   "source": [
    "descriptors = []\n",
    "t = time()\n",
    "for l in nanos:\n",
    "    # Load trajectory\n",
    "    folder = '/Users/rossg/Work/nanoparticles/NewExplicit/Production/' + l + '/'\n",
    "    traj  = md.load(folder+'traj_centered.dcd',top=folder+'equil.pdb')\n",
    "    \n",
    "    # Find the atom ids of the drug and dye\n",
    "    atmids = [atms.index for atms in traj.topology.atoms if atms.residue.name in mols]\n",
    "    traj_slice = traj.atom_slice(atmids,inplace=True)\n",
    "    \n",
    "    # Calculate descriptors\n",
    "    c, av_vol,vol = compressibilty(traj_slice,('LIG','DYE'),skip=20)\n",
    "    m, av_sasa = morphability(traj_slice,('LIG','DYE'),skip=20)\n",
    "    phi = sphericity(av_vol,av_sasa)\n",
    "    trash, vol_dye = ResidueVolume(traj_slice,'DYE')\n",
    "    trash, vol_mol = ResidueVolume(traj_slice,'LIG')\n",
    "    pe = (vol_mol+vol_dye)/av_vol    # Packing efficiency\n",
    "    descriptors.append([c,m,phi,pe])\n",
    "t = time() - t\n",
    "print \"It look {0} seconds to process {1} simulations\".format(t,len(nanos))"
   ]
  },
  {
   "cell_type": "code",
   "execution_count": 44,
   "metadata": {
    "collapsed": false
   },
   "outputs": [
    {
     "name": "stdout",
     "output_type": "stream",
     "text": [
      "Descriptors:\n",
      "[[  1.30532759e-07   1.17680790e+00   3.19859647e-01   2.11855327e+00]\n",
      " [  3.95792069e-07   6.83779924e+00   2.94624769e-01   2.03192837e+00]\n",
      " [  6.81016960e-08   5.69510562e-01   3.38276071e-01   2.12474144e+00]\n",
      " [  1.02746289e-07   1.74995536e+00   2.87691784e-01   2.11772532e+00]\n",
      " [  1.77709752e-07   8.09990161e-01   3.21690769e-01   2.09494885e+00]\n",
      " [  1.44244612e-07   4.00798429e-01   3.46692966e-01   2.09275838e+00]\n",
      " [  8.42078324e-08   1.77308466e+00   3.23087525e-01   2.09595775e+00]\n",
      " [  1.53644944e-07   3.98730130e-01   3.22484607e-01   2.10923156e+00]\n",
      " [  9.44342864e-08   1.39321895e+00   2.89607797e-01   2.13666174e+00]\n",
      " [  1.28129537e-07   2.38558251e+00   2.94725302e-01   2.10090942e+00]]\n",
      "\n",
      "Standardised descriptors\n",
      "[[ -1.96757341e-01  -3.16873754e-01   3.01543646e-01   5.97006392e-01]\n",
      " [  2.79904445e+00   2.81512317e+00  -9.69759887e-01  -2.59302054e+00]\n",
      " [ -9.01845091e-01  -6.52866741e-01   1.22934148e+00   8.24890468e-01]\n",
      " [ -5.10573867e-01   2.25492025e-04  -1.31903558e+00   5.66516647e-01]\n",
      " [  3.36053061e-01  -5.19819132e-01   3.93793435e-01  -2.72243803e-01]\n",
      " [ -4.18975769e-02  -7.46208322e-01   1.65337478e+00  -3.52909573e-01]\n",
      " [ -7.19944624e-01   1.30219933e-02   4.64160339e-01  -2.35090364e-01]\n",
      " [  6.42684596e-02  -7.47352628e-01   4.33786040e-01   2.53727714e-01]\n",
      " [ -6.04448474e-01  -1.97142295e-01  -1.22250909e+00   1.26386459e+00]\n",
      " [ -2.23898994e-01   3.51892216e-01  -9.64695171e-01  -5.27415263e-02]]\n"
     ]
    }
   ],
   "source": [
    "def standardise(A):\n",
    "    return(A - np.mean(A, axis=0)) / np.std(A, axis=0)\n",
    "\n",
    "des = np.array(descriptors)\n",
    "des_st = standardise(des)\n",
    "print 'Descriptors:'\n",
    "print des\n",
    "print '\\nStandardised descriptors'\n",
    "print des_st"
   ]
  },
  {
   "cell_type": "markdown",
   "metadata": {},
   "source": [
    "## Unsupervised learning\n",
    "_Question_: is it possible to distinguish nanoparticle forming molecules an unsupervised way?"
   ]
  },
  {
   "cell_type": "markdown",
   "metadata": {},
   "source": [
    "### Kmeans"
   ]
  },
  {
   "cell_type": "code",
   "execution_count": 31,
   "metadata": {
    "collapsed": false
   },
   "outputs": [],
   "source": [
    "true_nanos =  ['3t','4r','6s','9t','10v']\n",
    "false_nanos = ['1e','2m','5s','7t','8t']\n",
    "\n",
    "# Creating an array to fit to when doing supervised learning.\n",
    "Y = np.ones(10)\n",
    "for i in range(len(nanos)):\n",
    "    if nanos[i] in true_nanos:\n",
    "        Y[i] = True\n",
    "    else:\n",
    "        Y[i] = False  "
   ]
  },
  {
   "cell_type": "code",
   "execution_count": 35,
   "metadata": {
    "collapsed": false
   },
   "outputs": [
    {
     "name": "stdout",
     "output_type": "stream",
     "text": [
      "First group: ['3t', '6s', '9t', '10v', '1e', '2m', '5s', '7t', '8t']\n",
      "Second group: ['4r']\n"
     ]
    }
   ],
   "source": [
    "from sklearn.cluster import KMeans\n",
    "\n",
    "kclusts = KMeans(n_clusters=2,n_init=100)\n",
    "clusts = kclusts.fit_predict(des_st)\n",
    "\n",
    "print 'First group:', [nanos[ind] for ind in np.where(clusts==0)[0]]\n",
    "print 'Second group:',[nanos[ind] for ind in np.where(clusts==1)[0]]"
   ]
  },
  {
   "cell_type": "markdown",
   "metadata": {},
   "source": [
    "### Hierarchical clustering"
   ]
  },
  {
   "cell_type": "code",
   "execution_count": 36,
   "metadata": {
    "collapsed": false
   },
   "outputs": [
    {
     "name": "stdout",
     "output_type": "stream",
     "text": [
      "First group: ['3t', '6s', '9t', '10v', '1e', '2m', '5s', '7t', '8t']\n",
      "Second group: ['4r']\n"
     ]
    }
   ],
   "source": [
    "from sklearn.cluster import AgglomerativeClustering\n",
    "\n",
    "hclusts = AgglomerativeClustering(n_clusters=2,linkage='ward')\n",
    "clusts = hclusts.fit_predict(des_st)\n",
    "\n",
    "print 'First group:', [nanos[ind] for ind in np.where(clusts==0)[0]]\n",
    "print 'Second group:',[nanos[ind] for ind in np.where(clusts==1)[0]]"
   ]
  },
  {
   "cell_type": "markdown",
   "metadata": {},
   "source": [
    "## Supervised learning\n",
    "Are there any descriptors that can descriminate between true and false nanoparticles?"
   ]
  },
  {
   "cell_type": "code",
   "execution_count": 37,
   "metadata": {
    "collapsed": false
   },
   "outputs": [
    {
     "name": "stdout",
     "output_type": "stream",
     "text": [
      "Fraction correctionly predicted = 1.0\n"
     ]
    }
   ],
   "source": [
    "from sklearn.ensemble import RandomForestClassifier\n",
    "\n",
    "rforests = RandomForestClassifier(n_estimators=500,oob_score=True)\n",
    "rforests.fit(X=des_st,y=Y)\n",
    "print 'Fraction correctionly predicted = {0}'.format(rforests.score(des_st,Y))"
   ]
  },
  {
   "cell_type": "markdown",
   "metadata": {},
   "source": [
    "The model is clearly overfit, but the RF contains important information on what descriprtors are important, and how distinctly the particles fall into the two catagories."
   ]
  },
  {
   "cell_type": "code",
   "execution_count": 41,
   "metadata": {
    "collapsed": false
   },
   "outputs": [
    {
     "data": {
      "image/png": "[encoded data removed]",
      "text/plain": [
       "<IPython.core.display.Image object>"
      ]
     },
     "execution_count": 41,
     "metadata": {},
     "output_type": "execute_result"
    }
   ],
   "source": [
    "fig, ax = plt.subplots()\n",
    "rects = ax.bar(np.arange(4),rforests.feature_importances_,width=0.5, color=tableau4_light[1])\n",
    "ax.set_ylabel('Importance')\n",
    "ax.set_title('Ability of descriptors to distinguish nanoparticles in an RF')\n",
    "ax.set_xticks(np.arange(4)+0.25)\n",
    "ax.set_xticklabels(['compressability','morphability','sphericity','Packing fraction'],rotation=0)\n",
    "\n",
    "plt.savefig('DescriptorImportance.png',format='png')\n",
    "Image('DescriptorImportance.png')"
   ]
  },
  {
   "cell_type": "markdown",
   "metadata": {},
   "source": [
    "No descriptor stands out as being important over the rest."
   ]
  },
  {
   "cell_type": "code",
   "execution_count": null,
   "metadata": {
    "collapsed": true
   },
   "outputs": [],
   "source": []
  }
 ],
 "metadata": {
  "kernelspec": {
   "display_name": "Python 2",
   "language": "python",
   "name": "python2"
  },
  "language_info": {
   "codemirror_mode": {
    "name": "ipython",
    "version": 2
   },
   "file_extension": ".py",
   "mimetype": "text/x-python",
   "name": "python",
   "nbconvert_exporter": "python",
   "pygments_lexer": "ipython2",
   "version": "2.7.11"
  }
 },
 "nbformat": 4,
 "nbformat_minor": 0
}
